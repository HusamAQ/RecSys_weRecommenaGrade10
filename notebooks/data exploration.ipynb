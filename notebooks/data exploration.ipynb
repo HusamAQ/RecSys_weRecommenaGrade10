{
 "cells": [
  {
   "cell_type": "code",
   "execution_count": 138,
   "metadata": {
    "collapsed": true
   },
   "outputs": [
    {
     "data": {
      "text/plain": "                                       name  num_ratings\nplaceID                                                 \n134975                      Rincon del Bife            3\n132717                         tortas hawai            3\n135011                         Los Vikingos            3\n135016                      Arrachela Grill            3\n132766                               Mikasa            3\n...                                     ...          ...\n135052               La Cantina Restaurante           25\n132834                  Gorditas Doa Gloria           25\n135032   Cafeteria y Restaurant El Pacifico           28\n132825                      puesto de tacos           32\n135085               Tortas Locas Hipocampo           36\n\n[130 rows x 2 columns]",
      "text/html": "<div>\n<style scoped>\n    .dataframe tbody tr th:only-of-type {\n        vertical-align: middle;\n    }\n\n    .dataframe tbody tr th {\n        vertical-align: top;\n    }\n\n    .dataframe thead th {\n        text-align: right;\n    }\n</style>\n<table border=\"1\" class=\"dataframe\">\n  <thead>\n    <tr style=\"text-align: right;\">\n      <th></th>\n      <th>name</th>\n      <th>num_ratings</th>\n    </tr>\n    <tr>\n      <th>placeID</th>\n      <th></th>\n      <th></th>\n    </tr>\n  </thead>\n  <tbody>\n    <tr>\n      <th>134975</th>\n      <td>Rincon del Bife</td>\n      <td>3</td>\n    </tr>\n    <tr>\n      <th>132717</th>\n      <td>tortas hawai</td>\n      <td>3</td>\n    </tr>\n    <tr>\n      <th>135011</th>\n      <td>Los Vikingos</td>\n      <td>3</td>\n    </tr>\n    <tr>\n      <th>135016</th>\n      <td>Arrachela Grill</td>\n      <td>3</td>\n    </tr>\n    <tr>\n      <th>132766</th>\n      <td>Mikasa</td>\n      <td>3</td>\n    </tr>\n    <tr>\n      <th>...</th>\n      <td>...</td>\n      <td>...</td>\n    </tr>\n    <tr>\n      <th>135052</th>\n      <td>La Cantina Restaurante</td>\n      <td>25</td>\n    </tr>\n    <tr>\n      <th>132834</th>\n      <td>Gorditas Doa Gloria</td>\n      <td>25</td>\n    </tr>\n    <tr>\n      <th>135032</th>\n      <td>Cafeteria y Restaurant El Pacifico</td>\n      <td>28</td>\n    </tr>\n    <tr>\n      <th>132825</th>\n      <td>puesto de tacos</td>\n      <td>32</td>\n    </tr>\n    <tr>\n      <th>135085</th>\n      <td>Tortas Locas Hipocampo</td>\n      <td>36</td>\n    </tr>\n  </tbody>\n</table>\n<p>130 rows × 2 columns</p>\n</div>"
     },
     "metadata": {},
     "output_type": "display_data"
    },
    {
     "name": "stdout",
     "output_type": "stream",
     "text": [
      "Mean number of ratings is 8.93\n"
     ]
    }
   ],
   "source": [
    "from geopy.distance import distance as geo_distance\n",
    "from we_recommend_a_grade_10.data import *\n",
    "\n",
    "test = res_Profile.copy()\n",
    "test['ratings'] = (Ratings.placeID.drop_duplicates())\n",
    "test.index = test.placeID\n",
    "test['num_ratings'] = Ratings.groupby(Ratings.placeID).count()['userID']\n",
    "display(test.sort_values('num_ratings')[['name', 'num_ratings']])\n",
    "print(\"Mean number of ratings is %.2f\"%test.num_ratings.mean())"
   ]
  },
  {
   "cell_type": "code",
   "execution_count": 107,
   "outputs": [
    {
     "name": "stdout",
     "output_type": "stream",
     "text": [
      "'Ratings' has 130 unique places\n",
      "\n",
      "'Cuisine' has 769 unique places\n",
      "'Hours' has 694 unique places\n",
      "'Parking' has 675 unique places\n",
      "'Accepts' has 615 unique places\n",
      "'Profile' has 130 unique places\n",
      "\n",
      "\n",
      "'Cuisine' has 73.08% coverage on 'Ratings'\n",
      "'Hours' has 98.46% coverage on 'Ratings'\n",
      "'Parking' has 100.00% coverage on 'Ratings'\n",
      "'Accepts' has 87.69% coverage on 'Ratings'\n",
      "'Profile' has 100.00% coverage on 'Ratings'\n",
      "\n",
      "Most restaurants only have 1 cuisine:\n"
     ]
    },
    {
     "data": {
      "text/plain": "         # cuisines\nplaceID            \n135085            1\n135059            1\n135054            1\n135027            1\n135039            1\n...             ...\n135041            2\n135032            2\n135071            2\n135053            3\n134976            3\n\n[95 rows x 1 columns]",
      "text/html": "<div>\n<style scoped>\n    .dataframe tbody tr th:only-of-type {\n        vertical-align: middle;\n    }\n\n    .dataframe tbody tr th {\n        vertical-align: top;\n    }\n\n    .dataframe thead th {\n        text-align: right;\n    }\n</style>\n<table border=\"1\" class=\"dataframe\">\n  <thead>\n    <tr style=\"text-align: right;\">\n      <th></th>\n      <th># cuisines</th>\n    </tr>\n    <tr>\n      <th>placeID</th>\n      <th></th>\n    </tr>\n  </thead>\n  <tbody>\n    <tr>\n      <th>135085</th>\n      <td>1</td>\n    </tr>\n    <tr>\n      <th>135059</th>\n      <td>1</td>\n    </tr>\n    <tr>\n      <th>135054</th>\n      <td>1</td>\n    </tr>\n    <tr>\n      <th>135027</th>\n      <td>1</td>\n    </tr>\n    <tr>\n      <th>135039</th>\n      <td>1</td>\n    </tr>\n    <tr>\n      <th>...</th>\n      <td>...</td>\n    </tr>\n    <tr>\n      <th>135041</th>\n      <td>2</td>\n    </tr>\n    <tr>\n      <th>135032</th>\n      <td>2</td>\n    </tr>\n    <tr>\n      <th>135071</th>\n      <td>2</td>\n    </tr>\n    <tr>\n      <th>135053</th>\n      <td>3</td>\n    </tr>\n    <tr>\n      <th>134976</th>\n      <td>3</td>\n    </tr>\n  </tbody>\n</table>\n<p>95 rows × 1 columns</p>\n</div>"
     },
     "metadata": {},
     "output_type": "display_data"
    },
    {
     "name": "stdout",
     "output_type": "stream",
     "text": [
      "\n",
      "The following cuisines are found in the set of rated restaurants:\n"
     ]
    },
    {
     "data": {
      "text/plain": "                  frequency\nRcuisine                   \nVietnamese                1\nArmenian                  1\nBakery                    1\nRegional                  1\nMediterranean             1\nBreakfast-Brunch          1\nGame                      1\nCafe-Coffee_Shop          1\nContemporary              2\nFamily                    2\nChinese                   3\nInternational             4\nItalian                   4\nSeafood                   5\nBurgers                   5\nJapanese                  5\nPizzeria                  5\nAmerican                  5\nBar_Pub_Brewery           6\nFast_Food                 8\nCafeteria                 9\nBar                      13\nMexican                  28",
      "text/html": "<div>\n<style scoped>\n    .dataframe tbody tr th:only-of-type {\n        vertical-align: middle;\n    }\n\n    .dataframe tbody tr th {\n        vertical-align: top;\n    }\n\n    .dataframe thead th {\n        text-align: right;\n    }\n</style>\n<table border=\"1\" class=\"dataframe\">\n  <thead>\n    <tr style=\"text-align: right;\">\n      <th></th>\n      <th>frequency</th>\n    </tr>\n    <tr>\n      <th>Rcuisine</th>\n      <th></th>\n    </tr>\n  </thead>\n  <tbody>\n    <tr>\n      <th>Vietnamese</th>\n      <td>1</td>\n    </tr>\n    <tr>\n      <th>Armenian</th>\n      <td>1</td>\n    </tr>\n    <tr>\n      <th>Bakery</th>\n      <td>1</td>\n    </tr>\n    <tr>\n      <th>Regional</th>\n      <td>1</td>\n    </tr>\n    <tr>\n      <th>Mediterranean</th>\n      <td>1</td>\n    </tr>\n    <tr>\n      <th>Breakfast-Brunch</th>\n      <td>1</td>\n    </tr>\n    <tr>\n      <th>Game</th>\n      <td>1</td>\n    </tr>\n    <tr>\n      <th>Cafe-Coffee_Shop</th>\n      <td>1</td>\n    </tr>\n    <tr>\n      <th>Contemporary</th>\n      <td>2</td>\n    </tr>\n    <tr>\n      <th>Family</th>\n      <td>2</td>\n    </tr>\n    <tr>\n      <th>Chinese</th>\n      <td>3</td>\n    </tr>\n    <tr>\n      <th>International</th>\n      <td>4</td>\n    </tr>\n    <tr>\n      <th>Italian</th>\n      <td>4</td>\n    </tr>\n    <tr>\n      <th>Seafood</th>\n      <td>5</td>\n    </tr>\n    <tr>\n      <th>Burgers</th>\n      <td>5</td>\n    </tr>\n    <tr>\n      <th>Japanese</th>\n      <td>5</td>\n    </tr>\n    <tr>\n      <th>Pizzeria</th>\n      <td>5</td>\n    </tr>\n    <tr>\n      <th>American</th>\n      <td>5</td>\n    </tr>\n    <tr>\n      <th>Bar_Pub_Brewery</th>\n      <td>6</td>\n    </tr>\n    <tr>\n      <th>Fast_Food</th>\n      <td>8</td>\n    </tr>\n    <tr>\n      <th>Cafeteria</th>\n      <td>9</td>\n    </tr>\n    <tr>\n      <th>Bar</th>\n      <td>13</td>\n    </tr>\n    <tr>\n      <th>Mexican</th>\n      <td>28</td>\n    </tr>\n  </tbody>\n</table>\n</div>"
     },
     "metadata": {},
     "output_type": "display_data"
    },
    {
     "name": "stdout",
     "output_type": "stream",
     "text": [
      "\n",
      "These are a total of 112 tags for 95 restaurants\n",
      "\n",
      "Mean cuisine count per restaurant is 1.18\n"
     ]
    }
   ],
   "source": [
    "rating_places = Ratings.placeID.unique()\n",
    "ratings_unique = rating_places.shape[0]\n",
    "print(\"'Ratings' has %s unique places\\n\"%ratings_unique)\n",
    "\n",
    "names = \"Cuisine;Hours;Parking;Accepts;Profile\".split(\";\")\n",
    "dfs = [res_Cuisine, res_Hours, res_Parking, res_Accepts, res_Profile]\n",
    "for i in range(len(dfs)):\n",
    "    print(\"'%s' has %s unique places\"%(names[i], dfs[i].placeID.unique().shape[0]))\n",
    "print(\"\\n\")\n",
    "for i in range(len(dfs)):\n",
    "    dfi = dfs[i].copy()\n",
    "    dfi.index = dfi.placeID\n",
    "    num_match = len(dfi.loc[[x for x in rating_places if x in dfi.index]].placeID.unique())\n",
    "    print(\"'%s' has %.2f%% coverage on 'Ratings'\"%(names[i], 100*num_match / ratings_unique))\n",
    "\n",
    "grouped = res_Cuisine.groupby(\"placeID\").count()\n",
    "cuisine_count = grouped.loc[[x for x in rating_places if x in grouped.index]].rename(columns={'Rcuisine':'# cuisines'}).sort_values('# cuisines')\n",
    "\n",
    "rated_cuisine = res_Cuisine[res_Cuisine.placeID.isin(rating_places)]\n",
    "cuisine_freq = rated_cuisine.groupby('Rcuisine').count().rename(columns={'placeID':'frequency'}).sort_values('frequency')\n",
    "\n",
    "print(\"\\nMost restaurants only have 1 cuisine:\")\n",
    "display(cuisine_count)\n",
    "print(\"\\nThe following cuisines are found in the set of rated restaurants:\")\n",
    "display(cuisine_freq)\n",
    "print(\"\\nThese are a total of %d tags for %d restaurants\"%(cuisine_freq.frequency.sum(), len(cuisine_count)))\n",
    "print(\"\\nMean cuisine count per restaurant is %.2f\"%cuisine_count['# cuisines'].mean())\n",
    "\n"
   ],
   "metadata": {
    "collapsed": false,
    "pycharm": {
     "name": "#%%\n"
    }
   }
  },
  {
   "cell_type": "markdown",
   "source": [
    "### Now creating a distance matrix for ratings"
   ],
   "metadata": {
    "collapsed": false
   }
  },
  {
   "cell_type": "code",
   "execution_count": 170,
   "outputs": [
    {
     "data": {
      "text/plain": "          latitude   longitude\nplaceID                       \n134999   18.915421  -99.184871\n132825   22.147392 -100.983092\n135106   22.149709 -100.976093\n132667   23.752697  -99.163359\n132613   23.752903  -99.165076",
      "text/html": "<div>\n<style scoped>\n    .dataframe tbody tr th:only-of-type {\n        vertical-align: middle;\n    }\n\n    .dataframe tbody tr th {\n        vertical-align: top;\n    }\n\n    .dataframe thead th {\n        text-align: right;\n    }\n</style>\n<table border=\"1\" class=\"dataframe\">\n  <thead>\n    <tr style=\"text-align: right;\">\n      <th></th>\n      <th>latitude</th>\n      <th>longitude</th>\n    </tr>\n    <tr>\n      <th>placeID</th>\n      <th></th>\n      <th></th>\n    </tr>\n  </thead>\n  <tbody>\n    <tr>\n      <th>134999</th>\n      <td>18.915421</td>\n      <td>-99.184871</td>\n    </tr>\n    <tr>\n      <th>132825</th>\n      <td>22.147392</td>\n      <td>-100.983092</td>\n    </tr>\n    <tr>\n      <th>135106</th>\n      <td>22.149709</td>\n      <td>-100.976093</td>\n    </tr>\n    <tr>\n      <th>132667</th>\n      <td>23.752697</td>\n      <td>-99.163359</td>\n    </tr>\n    <tr>\n      <th>132613</th>\n      <td>23.752903</td>\n      <td>-99.165076</td>\n    </tr>\n  </tbody>\n</table>\n</div>"
     },
     "metadata": {},
     "output_type": "display_data"
    },
    {
     "data": {
      "text/plain": "         latitude   longitude\nuserID                       \nU1001   22.139997 -100.978803\nU1002   22.150087 -100.983325\nU1003   22.119847 -100.946527\nU1004   18.867000  -99.183000\nU1005   22.183477 -100.959891",
      "text/html": "<div>\n<style scoped>\n    .dataframe tbody tr th:only-of-type {\n        vertical-align: middle;\n    }\n\n    .dataframe tbody tr th {\n        vertical-align: top;\n    }\n\n    .dataframe thead th {\n        text-align: right;\n    }\n</style>\n<table border=\"1\" class=\"dataframe\">\n  <thead>\n    <tr style=\"text-align: right;\">\n      <th></th>\n      <th>latitude</th>\n      <th>longitude</th>\n    </tr>\n    <tr>\n      <th>userID</th>\n      <th></th>\n      <th></th>\n    </tr>\n  </thead>\n  <tbody>\n    <tr>\n      <th>U1001</th>\n      <td>22.139997</td>\n      <td>-100.978803</td>\n    </tr>\n    <tr>\n      <th>U1002</th>\n      <td>22.150087</td>\n      <td>-100.983325</td>\n    </tr>\n    <tr>\n      <th>U1003</th>\n      <td>22.119847</td>\n      <td>-100.946527</td>\n    </tr>\n    <tr>\n      <th>U1004</th>\n      <td>18.867000</td>\n      <td>-99.183000</td>\n    </tr>\n    <tr>\n      <th>U1005</th>\n      <td>22.183477</td>\n      <td>-100.959891</td>\n    </tr>\n  </tbody>\n</table>\n</div>"
     },
     "metadata": {},
     "output_type": "display_data"
    },
    {
     "name": "stdout",
     "output_type": "stream",
     "text": [
      "True\n",
      "True\n",
      "True\n"
     ]
    },
    {
     "data": {
      "text/plain": "     userID  placeID  distance\n0     U1077   135085  0.693407\n1     U1077   135038  0.806876\n2     U1077   132825  1.036330\n3     U1077   135060  0.729154\n4     U1068   135104  0.080878\n...     ...      ...       ...\n1156  U1043   132630  2.022179\n1157  U1011   132715  1.015471\n1158  U1068   132733  0.617608\n1159  U1068   132594  0.295448\n1160  U1068   132660  0.407125\n\n[1161 rows x 3 columns]",
      "text/html": "<div>\n<style scoped>\n    .dataframe tbody tr th:only-of-type {\n        vertical-align: middle;\n    }\n\n    .dataframe tbody tr th {\n        vertical-align: top;\n    }\n\n    .dataframe thead th {\n        text-align: right;\n    }\n</style>\n<table border=\"1\" class=\"dataframe\">\n  <thead>\n    <tr style=\"text-align: right;\">\n      <th></th>\n      <th>userID</th>\n      <th>placeID</th>\n      <th>distance</th>\n    </tr>\n  </thead>\n  <tbody>\n    <tr>\n      <th>0</th>\n      <td>U1077</td>\n      <td>135085</td>\n      <td>0.693407</td>\n    </tr>\n    <tr>\n      <th>1</th>\n      <td>U1077</td>\n      <td>135038</td>\n      <td>0.806876</td>\n    </tr>\n    <tr>\n      <th>2</th>\n      <td>U1077</td>\n      <td>132825</td>\n      <td>1.036330</td>\n    </tr>\n    <tr>\n      <th>3</th>\n      <td>U1077</td>\n      <td>135060</td>\n      <td>0.729154</td>\n    </tr>\n    <tr>\n      <th>4</th>\n      <td>U1068</td>\n      <td>135104</td>\n      <td>0.080878</td>\n    </tr>\n    <tr>\n      <th>...</th>\n      <td>...</td>\n      <td>...</td>\n      <td>...</td>\n    </tr>\n    <tr>\n      <th>1156</th>\n      <td>U1043</td>\n      <td>132630</td>\n      <td>2.022179</td>\n    </tr>\n    <tr>\n      <th>1157</th>\n      <td>U1011</td>\n      <td>132715</td>\n      <td>1.015471</td>\n    </tr>\n    <tr>\n      <th>1158</th>\n      <td>U1068</td>\n      <td>132733</td>\n      <td>0.617608</td>\n    </tr>\n    <tr>\n      <th>1159</th>\n      <td>U1068</td>\n      <td>132594</td>\n      <td>0.295448</td>\n    </tr>\n    <tr>\n      <th>1160</th>\n      <td>U1068</td>\n      <td>132660</td>\n      <td>0.407125</td>\n    </tr>\n  </tbody>\n</table>\n<p>1161 rows × 3 columns</p>\n</div>"
     },
     "metadata": {},
     "output_type": "display_data"
    }
   ],
   "source": [
    "res_coords = res_Profile.copy(); res_coords.index = res_coords.placeID\n",
    "res_coords = res_coords.drop(columns=[x for x in res_Profile.columns if x not in ['longitude', 'latitude']])\n",
    "user_coords = user_Profile.copy(); user_coords.index = user_coords.userID\n",
    "user_coords = user_coords.drop(columns=[x for x in user_Profile.columns if x not in ['longitude', 'latitude']])\n",
    "display(res_coords.head())\n",
    "display(user_coords.head())\n",
    "\n",
    "res_rename = {'latitude': 'res_lat', 'longitude': 'res_lon'}\n",
    "user_rename = {'latitude': 'user_lat', 'longitude': 'user_lon'}\n",
    "\n",
    "step1 = Ratings.drop(columns=[x for x in Ratings.columns if \"rating\" in x])\n",
    "step2 = pd.merge(step1, res_coords.rename(columns=res_rename), on='placeID',right_index=True).sort_index()\n",
    "step3 = pd.merge(step2, user_coords.rename(columns=user_rename), on='userID',right_index=True).sort_index()\n",
    "step3['distance'] = [geo_distance((step3.loc[i].res_lat, step3.loc[i].res_lon),(step3.loc[i].user_lat, step3.loc[i].user_lon)).km for i in step3.index]\n",
    "matrix = step3[['userID', 'placeID', 'distance']]\n",
    "\n",
    "def matching(df):\n",
    "    return (Ratings.userID == df.userID).all()\\\n",
    "           and (Ratings.placeID == df.placeID).all()\n",
    "\n",
    "print(matching(step1))\n",
    "print(matching(step2))\n",
    "print(matching(matrix))\n",
    "\n",
    "display(matrix)"
   ],
   "metadata": {
    "collapsed": false,
    "pycharm": {
     "name": "#%%\n"
    }
   }
  }
 ],
 "metadata": {
  "kernelspec": {
   "display_name": "Python 3",
   "language": "python",
   "name": "python3"
  },
  "language_info": {
   "codemirror_mode": {
    "name": "ipython",
    "version": 2
   },
   "file_extension": ".py",
   "mimetype": "text/x-python",
   "name": "python",
   "nbconvert_exporter": "python",
   "pygments_lexer": "ipython2",
   "version": "2.7.6"
  }
 },
 "nbformat": 4,
 "nbformat_minor": 0
}