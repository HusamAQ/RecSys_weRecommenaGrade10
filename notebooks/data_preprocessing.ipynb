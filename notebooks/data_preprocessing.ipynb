{
 "cells": [
  {
   "cell_type": "markdown",
   "metadata": {},
   "source": [
    "# This notebook handels data import and preprocessing\n",
    "\n",
    "## Importing data"
   ]
  },
  {
   "cell_type": "code",
   "execution_count": 26,
   "metadata": {},
   "outputs": [
    {
     "data": {
      "text/plain": "     userID  placeID  rating  food_rating  service_rating\n0     U1077   135085       2            2               2\n1     U1077   135038       2            2               1\n2     U1077   132825       2            2               2\n3     U1077   135060       1            2               2\n4     U1068   135104       1            1               2\n...     ...      ...     ...          ...             ...\n1156  U1043   132630       1            1               1\n1157  U1011   132715       1            1               0\n1158  U1068   132733       1            1               0\n1159  U1068   132594       1            1               1\n1160  U1068   132660       0            0               0\n\n[1161 rows x 5 columns]",
      "text/html": "<div>\n<style scoped>\n    .dataframe tbody tr th:only-of-type {\n        vertical-align: middle;\n    }\n\n    .dataframe tbody tr th {\n        vertical-align: top;\n    }\n\n    .dataframe thead th {\n        text-align: right;\n    }\n</style>\n<table border=\"1\" class=\"dataframe\">\n  <thead>\n    <tr style=\"text-align: right;\">\n      <th></th>\n      <th>userID</th>\n      <th>placeID</th>\n      <th>rating</th>\n      <th>food_rating</th>\n      <th>service_rating</th>\n    </tr>\n  </thead>\n  <tbody>\n    <tr>\n      <th>0</th>\n      <td>U1077</td>\n      <td>135085</td>\n      <td>2</td>\n      <td>2</td>\n      <td>2</td>\n    </tr>\n    <tr>\n      <th>1</th>\n      <td>U1077</td>\n      <td>135038</td>\n      <td>2</td>\n      <td>2</td>\n      <td>1</td>\n    </tr>\n    <tr>\n      <th>2</th>\n      <td>U1077</td>\n      <td>132825</td>\n      <td>2</td>\n      <td>2</td>\n      <td>2</td>\n    </tr>\n    <tr>\n      <th>3</th>\n      <td>U1077</td>\n      <td>135060</td>\n      <td>1</td>\n      <td>2</td>\n      <td>2</td>\n    </tr>\n    <tr>\n      <th>4</th>\n      <td>U1068</td>\n      <td>135104</td>\n      <td>1</td>\n      <td>1</td>\n      <td>2</td>\n    </tr>\n    <tr>\n      <th>...</th>\n      <td>...</td>\n      <td>...</td>\n      <td>...</td>\n      <td>...</td>\n      <td>...</td>\n    </tr>\n    <tr>\n      <th>1156</th>\n      <td>U1043</td>\n      <td>132630</td>\n      <td>1</td>\n      <td>1</td>\n      <td>1</td>\n    </tr>\n    <tr>\n      <th>1157</th>\n      <td>U1011</td>\n      <td>132715</td>\n      <td>1</td>\n      <td>1</td>\n      <td>0</td>\n    </tr>\n    <tr>\n      <th>1158</th>\n      <td>U1068</td>\n      <td>132733</td>\n      <td>1</td>\n      <td>1</td>\n      <td>0</td>\n    </tr>\n    <tr>\n      <th>1159</th>\n      <td>U1068</td>\n      <td>132594</td>\n      <td>1</td>\n      <td>1</td>\n      <td>1</td>\n    </tr>\n    <tr>\n      <th>1160</th>\n      <td>U1068</td>\n      <td>132660</td>\n      <td>0</td>\n      <td>0</td>\n      <td>0</td>\n    </tr>\n  </tbody>\n</table>\n<p>1161 rows × 5 columns</p>\n</div>"
     },
     "metadata": {},
     "output_type": "display_data"
    }
   ],
   "source": [
    "from we_recommend_a_grade_10.data import *\n",
    "\n",
    "display(Ratings)"
   ]
  },
  {
   "cell_type": "markdown",
   "metadata": {},
   "source": [
    "## Preprocessing Data"
   ]
  },
  {
   "cell_type": "code",
   "execution_count": 27,
   "metadata": {},
   "outputs": [
    {
     "data": {
      "text/plain": "     index userID   latitude   longitude     drink_level smoker  \\\n0        0  U1001  22.139997 -100.978803      abstemious  false   \n1        1  U1002  22.150087 -100.983325      abstemious  false   \n2        2  U1003  22.119847 -100.946527  social drinker  false   \n3        3  U1004  18.867000  -99.183000      abstemious  false   \n4        4  U1005  22.183477 -100.959891      abstemious  false   \n..     ...    ...        ...         ...             ...    ...   \n123    133  U1134  22.149654 -100.998610  casual drinker  false   \n124    134  U1135  22.170396 -100.949936  casual drinker  false   \n125    135  U1136  22.149607 -100.997235  social drinker   true   \n126    136  U1137  22.144803 -100.944623  social drinker  false   \n127    137  U1138  22.152884 -100.939663  social drinker  false   \n\n    dress_preference  budget ambience  \n0           informal  medium   family  \n1           informal     low   family  \n2             formal     low   family  \n3           informal  medium   family  \n4      no preference  medium   family  \n..               ...     ...      ...  \n123    no preference  medium   family  \n124         informal     low   family  \n125    no preference     low  friends  \n126           formal     low   family  \n127           formal  medium  friends  \n\n[128 rows x 9 columns]",
      "text/html": "<div>\n<style scoped>\n    .dataframe tbody tr th:only-of-type {\n        vertical-align: middle;\n    }\n\n    .dataframe tbody tr th {\n        vertical-align: top;\n    }\n\n    .dataframe thead th {\n        text-align: right;\n    }\n</style>\n<table border=\"1\" class=\"dataframe\">\n  <thead>\n    <tr style=\"text-align: right;\">\n      <th></th>\n      <th>index</th>\n      <th>userID</th>\n      <th>latitude</th>\n      <th>longitude</th>\n      <th>drink_level</th>\n      <th>smoker</th>\n      <th>dress_preference</th>\n      <th>budget</th>\n      <th>ambience</th>\n    </tr>\n  </thead>\n  <tbody>\n    <tr>\n      <th>0</th>\n      <td>0</td>\n      <td>U1001</td>\n      <td>22.139997</td>\n      <td>-100.978803</td>\n      <td>abstemious</td>\n      <td>false</td>\n      <td>informal</td>\n      <td>medium</td>\n      <td>family</td>\n    </tr>\n    <tr>\n      <th>1</th>\n      <td>1</td>\n      <td>U1002</td>\n      <td>22.150087</td>\n      <td>-100.983325</td>\n      <td>abstemious</td>\n      <td>false</td>\n      <td>informal</td>\n      <td>low</td>\n      <td>family</td>\n    </tr>\n    <tr>\n      <th>2</th>\n      <td>2</td>\n      <td>U1003</td>\n      <td>22.119847</td>\n      <td>-100.946527</td>\n      <td>social drinker</td>\n      <td>false</td>\n      <td>formal</td>\n      <td>low</td>\n      <td>family</td>\n    </tr>\n    <tr>\n      <th>3</th>\n      <td>3</td>\n      <td>U1004</td>\n      <td>18.867000</td>\n      <td>-99.183000</td>\n      <td>abstemious</td>\n      <td>false</td>\n      <td>informal</td>\n      <td>medium</td>\n      <td>family</td>\n    </tr>\n    <tr>\n      <th>4</th>\n      <td>4</td>\n      <td>U1005</td>\n      <td>22.183477</td>\n      <td>-100.959891</td>\n      <td>abstemious</td>\n      <td>false</td>\n      <td>no preference</td>\n      <td>medium</td>\n      <td>family</td>\n    </tr>\n    <tr>\n      <th>...</th>\n      <td>...</td>\n      <td>...</td>\n      <td>...</td>\n      <td>...</td>\n      <td>...</td>\n      <td>...</td>\n      <td>...</td>\n      <td>...</td>\n      <td>...</td>\n    </tr>\n    <tr>\n      <th>123</th>\n      <td>133</td>\n      <td>U1134</td>\n      <td>22.149654</td>\n      <td>-100.998610</td>\n      <td>casual drinker</td>\n      <td>false</td>\n      <td>no preference</td>\n      <td>medium</td>\n      <td>family</td>\n    </tr>\n    <tr>\n      <th>124</th>\n      <td>134</td>\n      <td>U1135</td>\n      <td>22.170396</td>\n      <td>-100.949936</td>\n      <td>casual drinker</td>\n      <td>false</td>\n      <td>informal</td>\n      <td>low</td>\n      <td>family</td>\n    </tr>\n    <tr>\n      <th>125</th>\n      <td>135</td>\n      <td>U1136</td>\n      <td>22.149607</td>\n      <td>-100.997235</td>\n      <td>social drinker</td>\n      <td>true</td>\n      <td>no preference</td>\n      <td>low</td>\n      <td>friends</td>\n    </tr>\n    <tr>\n      <th>126</th>\n      <td>136</td>\n      <td>U1137</td>\n      <td>22.144803</td>\n      <td>-100.944623</td>\n      <td>social drinker</td>\n      <td>false</td>\n      <td>formal</td>\n      <td>low</td>\n      <td>family</td>\n    </tr>\n    <tr>\n      <th>127</th>\n      <td>137</td>\n      <td>U1138</td>\n      <td>22.152884</td>\n      <td>-100.939663</td>\n      <td>social drinker</td>\n      <td>false</td>\n      <td>formal</td>\n      <td>medium</td>\n      <td>friends</td>\n    </tr>\n  </tbody>\n</table>\n<p>128 rows × 9 columns</p>\n</div>"
     },
     "metadata": {},
     "output_type": "display_data"
    },
    {
     "data": {
      "text/plain": "     index  placeID   latitude   longitude                            name  \\\n0        0   134999  18.915421  -99.184871                 Kiku Cuernavaca   \n1        1   132825  22.147392 -100.983092                 puesto de tacos   \n2        2   135106  22.149709 -100.976093      El Rinc�n de San Francisco   \n3        3   132667  23.752697  -99.163359  little pizza Emilio Portes Gil   \n4        4   132613  23.752903  -99.165076                   carnitas_mata   \n..     ...      ...        ...         ...                             ...   \n125    125   132866  22.141220 -100.931311                         Chaires   \n126    126   135072  22.149192 -101.002936                      Sushi Itto   \n127    127   135109  18.921785  -99.235350                       Paniroles   \n128    128   135019  18.875011  -99.159422     Restaurant Bar Coty y Pablo   \n129    129   132877  22.135364 -100.934948                sirloin stockade   \n\n               alcohol   smoking_area dress_code     accessibility   price  \\\n0    No_Alcohol_Served           none   informal  no_accessibility  medium   \n1    No_Alcohol_Served           none   informal        completely     low   \n2            Wine-Beer    only at bar   informal         partially  medium   \n3    No_Alcohol_Served           none   informal        completely     low   \n4    No_Alcohol_Served      permitted   informal        completely  medium   \n..                 ...            ...        ...               ...     ...   \n125  No_Alcohol_Served  not permitted   informal        completely  medium   \n126  No_Alcohol_Served           none   informal  no_accessibility  medium   \n127          Wine-Beer  not permitted   informal  no_accessibility  medium   \n128  No_Alcohol_Served           none   informal        completely     low   \n129  No_Alcohol_Served           none   informal        completely     low   \n\n    Rambience  \n0    familiar  \n1    familiar  \n2    familiar  \n3    familiar  \n4    familiar  \n..        ...  \n125  familiar  \n126  familiar  \n127     quiet  \n128  familiar  \n129  familiar  \n\n[130 rows x 11 columns]",
      "text/html": "<div>\n<style scoped>\n    .dataframe tbody tr th:only-of-type {\n        vertical-align: middle;\n    }\n\n    .dataframe tbody tr th {\n        vertical-align: top;\n    }\n\n    .dataframe thead th {\n        text-align: right;\n    }\n</style>\n<table border=\"1\" class=\"dataframe\">\n  <thead>\n    <tr style=\"text-align: right;\">\n      <th></th>\n      <th>index</th>\n      <th>placeID</th>\n      <th>latitude</th>\n      <th>longitude</th>\n      <th>name</th>\n      <th>alcohol</th>\n      <th>smoking_area</th>\n      <th>dress_code</th>\n      <th>accessibility</th>\n      <th>price</th>\n      <th>Rambience</th>\n    </tr>\n  </thead>\n  <tbody>\n    <tr>\n      <th>0</th>\n      <td>0</td>\n      <td>134999</td>\n      <td>18.915421</td>\n      <td>-99.184871</td>\n      <td>Kiku Cuernavaca</td>\n      <td>No_Alcohol_Served</td>\n      <td>none</td>\n      <td>informal</td>\n      <td>no_accessibility</td>\n      <td>medium</td>\n      <td>familiar</td>\n    </tr>\n    <tr>\n      <th>1</th>\n      <td>1</td>\n      <td>132825</td>\n      <td>22.147392</td>\n      <td>-100.983092</td>\n      <td>puesto de tacos</td>\n      <td>No_Alcohol_Served</td>\n      <td>none</td>\n      <td>informal</td>\n      <td>completely</td>\n      <td>low</td>\n      <td>familiar</td>\n    </tr>\n    <tr>\n      <th>2</th>\n      <td>2</td>\n      <td>135106</td>\n      <td>22.149709</td>\n      <td>-100.976093</td>\n      <td>El Rinc�n de San Francisco</td>\n      <td>Wine-Beer</td>\n      <td>only at bar</td>\n      <td>informal</td>\n      <td>partially</td>\n      <td>medium</td>\n      <td>familiar</td>\n    </tr>\n    <tr>\n      <th>3</th>\n      <td>3</td>\n      <td>132667</td>\n      <td>23.752697</td>\n      <td>-99.163359</td>\n      <td>little pizza Emilio Portes Gil</td>\n      <td>No_Alcohol_Served</td>\n      <td>none</td>\n      <td>informal</td>\n      <td>completely</td>\n      <td>low</td>\n      <td>familiar</td>\n    </tr>\n    <tr>\n      <th>4</th>\n      <td>4</td>\n      <td>132613</td>\n      <td>23.752903</td>\n      <td>-99.165076</td>\n      <td>carnitas_mata</td>\n      <td>No_Alcohol_Served</td>\n      <td>permitted</td>\n      <td>informal</td>\n      <td>completely</td>\n      <td>medium</td>\n      <td>familiar</td>\n    </tr>\n    <tr>\n      <th>...</th>\n      <td>...</td>\n      <td>...</td>\n      <td>...</td>\n      <td>...</td>\n      <td>...</td>\n      <td>...</td>\n      <td>...</td>\n      <td>...</td>\n      <td>...</td>\n      <td>...</td>\n      <td>...</td>\n    </tr>\n    <tr>\n      <th>125</th>\n      <td>125</td>\n      <td>132866</td>\n      <td>22.141220</td>\n      <td>-100.931311</td>\n      <td>Chaires</td>\n      <td>No_Alcohol_Served</td>\n      <td>not permitted</td>\n      <td>informal</td>\n      <td>completely</td>\n      <td>medium</td>\n      <td>familiar</td>\n    </tr>\n    <tr>\n      <th>126</th>\n      <td>126</td>\n      <td>135072</td>\n      <td>22.149192</td>\n      <td>-101.002936</td>\n      <td>Sushi Itto</td>\n      <td>No_Alcohol_Served</td>\n      <td>none</td>\n      <td>informal</td>\n      <td>no_accessibility</td>\n      <td>medium</td>\n      <td>familiar</td>\n    </tr>\n    <tr>\n      <th>127</th>\n      <td>127</td>\n      <td>135109</td>\n      <td>18.921785</td>\n      <td>-99.235350</td>\n      <td>Paniroles</td>\n      <td>Wine-Beer</td>\n      <td>not permitted</td>\n      <td>informal</td>\n      <td>no_accessibility</td>\n      <td>medium</td>\n      <td>quiet</td>\n    </tr>\n    <tr>\n      <th>128</th>\n      <td>128</td>\n      <td>135019</td>\n      <td>18.875011</td>\n      <td>-99.159422</td>\n      <td>Restaurant Bar Coty y Pablo</td>\n      <td>No_Alcohol_Served</td>\n      <td>none</td>\n      <td>informal</td>\n      <td>completely</td>\n      <td>low</td>\n      <td>familiar</td>\n    </tr>\n    <tr>\n      <th>129</th>\n      <td>129</td>\n      <td>132877</td>\n      <td>22.135364</td>\n      <td>-100.934948</td>\n      <td>sirloin stockade</td>\n      <td>No_Alcohol_Served</td>\n      <td>none</td>\n      <td>informal</td>\n      <td>completely</td>\n      <td>low</td>\n      <td>familiar</td>\n    </tr>\n  </tbody>\n</table>\n<p>130 rows × 11 columns</p>\n</div>"
     },
     "metadata": {},
     "output_type": "display_data"
    }
   ],
   "source": [
    "display(default_user_Profile)\n",
    "display(default_res_Profile)"
   ]
  },
  {
   "cell_type": "markdown",
   "metadata": {},
   "source": [
    "Lenskit expects a ratings dataframe with user item and rating columns"
   ]
  },
  {
   "cell_type": "code",
   "execution_count": 28,
   "metadata": {},
   "outputs": [
    {
     "data": {
      "text/plain": "       user    item  rating\n0     U1077  135085       6\n1     U1077  135038       5\n2     U1077  132825       6\n3     U1077  135060       5\n4     U1068  135104       4\n...     ...     ...     ...\n1156  U1043  132630       3\n1157  U1011  132715       2\n1158  U1068  132733       2\n1159  U1068  132594       3\n1160  U1068  132660       0\n\n[1161 rows x 3 columns]",
      "text/html": "<div>\n<style scoped>\n    .dataframe tbody tr th:only-of-type {\n        vertical-align: middle;\n    }\n\n    .dataframe tbody tr th {\n        vertical-align: top;\n    }\n\n    .dataframe thead th {\n        text-align: right;\n    }\n</style>\n<table border=\"1\" class=\"dataframe\">\n  <thead>\n    <tr style=\"text-align: right;\">\n      <th></th>\n      <th>user</th>\n      <th>item</th>\n      <th>rating</th>\n    </tr>\n  </thead>\n  <tbody>\n    <tr>\n      <th>0</th>\n      <td>U1077</td>\n      <td>135085</td>\n      <td>6</td>\n    </tr>\n    <tr>\n      <th>1</th>\n      <td>U1077</td>\n      <td>135038</td>\n      <td>5</td>\n    </tr>\n    <tr>\n      <th>2</th>\n      <td>U1077</td>\n      <td>132825</td>\n      <td>6</td>\n    </tr>\n    <tr>\n      <th>3</th>\n      <td>U1077</td>\n      <td>135060</td>\n      <td>5</td>\n    </tr>\n    <tr>\n      <th>4</th>\n      <td>U1068</td>\n      <td>135104</td>\n      <td>4</td>\n    </tr>\n    <tr>\n      <th>...</th>\n      <td>...</td>\n      <td>...</td>\n      <td>...</td>\n    </tr>\n    <tr>\n      <th>1156</th>\n      <td>U1043</td>\n      <td>132630</td>\n      <td>3</td>\n    </tr>\n    <tr>\n      <th>1157</th>\n      <td>U1011</td>\n      <td>132715</td>\n      <td>2</td>\n    </tr>\n    <tr>\n      <th>1158</th>\n      <td>U1068</td>\n      <td>132733</td>\n      <td>2</td>\n    </tr>\n    <tr>\n      <th>1159</th>\n      <td>U1068</td>\n      <td>132594</td>\n      <td>3</td>\n    </tr>\n    <tr>\n      <th>1160</th>\n      <td>U1068</td>\n      <td>132660</td>\n      <td>0</td>\n    </tr>\n  </tbody>\n</table>\n<p>1161 rows × 3 columns</p>\n</div>"
     },
     "metadata": {},
     "output_type": "display_data"
    }
   ],
   "source": [
    "display(simple_Ratings)"
   ]
  },
  {
   "cell_type": "markdown",
   "metadata": {},
   "source": [
    "## Recommender System"
   ]
  },
  {
   "cell_type": "code",
   "execution_count": 29,
   "metadata": {},
   "outputs": [
    {
     "data": {
      "text/plain": "     item     score  index  placeID   latitude   longitude  \\\n0  135108  4.545594     56   135108  22.136253 -100.933585   \n1  132723  4.543238     62   132723  22.148934 -101.019845   \n2  135081  4.429625     61   135081  22.164842 -100.960493   \n3  135050  4.064405     33   135050  22.174887 -100.970825   \n4  135026  3.918991     69   135026  22.148665 -101.001273   \n5  135066  3.911887     52   135066  22.168350 -100.972466   \n6  135030  3.754146     35   135030  22.147880 -100.989472   \n7  135075  3.586431    108   135075  22.139573 -100.991564   \n8  135059  3.572333     47   135059  22.145108 -100.989547   \n9  135027  2.978654     97   135027  22.147145 -100.974494   \n\n                                   name            alcohol smoking_area  \\\n0                            Potzocalli  No_Alcohol_Served         none   \n1                     Gordas de morales           Full_Bar      section   \n2                               El Club  No_Alcohol_Served         none   \n3       Restaurante la Estrella de Dima          Wine-Beer         none   \n4                            la Cantina           Full_Bar         none   \n5                    Restaurante Guerra          Wine-Beer      section   \n6              Preambulo Wifi Zone Cafe  No_Alcohol_Served         none   \n7                  Mariscos El Pescador  No_Alcohol_Served         none   \n8  Restaurant Bar Hacienda los Martinez          Wine-Beer      section   \n9                  Restaurant Orizatlan          Wine-Beer         none   \n\n  dress_code     accessibility   price Rambience  \n0   informal        completely     low  familiar  \n1   informal        completely  medium  familiar  \n2   informal  no_accessibility  medium  familiar  \n3   informal  no_accessibility    high  familiar  \n4   informal  no_accessibility    high  familiar  \n5   informal  no_accessibility    high  familiar  \n6   informal  no_accessibility  medium     quiet  \n7   informal  no_accessibility  medium  familiar  \n8   informal  no_accessibility  medium  familiar  \n9   informal  no_accessibility  medium  familiar  ",
      "text/html": "<div>\n<style scoped>\n    .dataframe tbody tr th:only-of-type {\n        vertical-align: middle;\n    }\n\n    .dataframe tbody tr th {\n        vertical-align: top;\n    }\n\n    .dataframe thead th {\n        text-align: right;\n    }\n</style>\n<table border=\"1\" class=\"dataframe\">\n  <thead>\n    <tr style=\"text-align: right;\">\n      <th></th>\n      <th>item</th>\n      <th>score</th>\n      <th>index</th>\n      <th>placeID</th>\n      <th>latitude</th>\n      <th>longitude</th>\n      <th>name</th>\n      <th>alcohol</th>\n      <th>smoking_area</th>\n      <th>dress_code</th>\n      <th>accessibility</th>\n      <th>price</th>\n      <th>Rambience</th>\n    </tr>\n  </thead>\n  <tbody>\n    <tr>\n      <th>0</th>\n      <td>135108</td>\n      <td>4.545594</td>\n      <td>56</td>\n      <td>135108</td>\n      <td>22.136253</td>\n      <td>-100.933585</td>\n      <td>Potzocalli</td>\n      <td>No_Alcohol_Served</td>\n      <td>none</td>\n      <td>informal</td>\n      <td>completely</td>\n      <td>low</td>\n      <td>familiar</td>\n    </tr>\n    <tr>\n      <th>1</th>\n      <td>132723</td>\n      <td>4.543238</td>\n      <td>62</td>\n      <td>132723</td>\n      <td>22.148934</td>\n      <td>-101.019845</td>\n      <td>Gordas de morales</td>\n      <td>Full_Bar</td>\n      <td>section</td>\n      <td>informal</td>\n      <td>completely</td>\n      <td>medium</td>\n      <td>familiar</td>\n    </tr>\n    <tr>\n      <th>2</th>\n      <td>135081</td>\n      <td>4.429625</td>\n      <td>61</td>\n      <td>135081</td>\n      <td>22.164842</td>\n      <td>-100.960493</td>\n      <td>El Club</td>\n      <td>No_Alcohol_Served</td>\n      <td>none</td>\n      <td>informal</td>\n      <td>no_accessibility</td>\n      <td>medium</td>\n      <td>familiar</td>\n    </tr>\n    <tr>\n      <th>3</th>\n      <td>135050</td>\n      <td>4.064405</td>\n      <td>33</td>\n      <td>135050</td>\n      <td>22.174887</td>\n      <td>-100.970825</td>\n      <td>Restaurante la Estrella de Dima</td>\n      <td>Wine-Beer</td>\n      <td>none</td>\n      <td>informal</td>\n      <td>no_accessibility</td>\n      <td>high</td>\n      <td>familiar</td>\n    </tr>\n    <tr>\n      <th>4</th>\n      <td>135026</td>\n      <td>3.918991</td>\n      <td>69</td>\n      <td>135026</td>\n      <td>22.148665</td>\n      <td>-101.001273</td>\n      <td>la Cantina</td>\n      <td>Full_Bar</td>\n      <td>none</td>\n      <td>informal</td>\n      <td>no_accessibility</td>\n      <td>high</td>\n      <td>familiar</td>\n    </tr>\n    <tr>\n      <th>5</th>\n      <td>135066</td>\n      <td>3.911887</td>\n      <td>52</td>\n      <td>135066</td>\n      <td>22.168350</td>\n      <td>-100.972466</td>\n      <td>Restaurante Guerra</td>\n      <td>Wine-Beer</td>\n      <td>section</td>\n      <td>informal</td>\n      <td>no_accessibility</td>\n      <td>high</td>\n      <td>familiar</td>\n    </tr>\n    <tr>\n      <th>6</th>\n      <td>135030</td>\n      <td>3.754146</td>\n      <td>35</td>\n      <td>135030</td>\n      <td>22.147880</td>\n      <td>-100.989472</td>\n      <td>Preambulo Wifi Zone Cafe</td>\n      <td>No_Alcohol_Served</td>\n      <td>none</td>\n      <td>informal</td>\n      <td>no_accessibility</td>\n      <td>medium</td>\n      <td>quiet</td>\n    </tr>\n    <tr>\n      <th>7</th>\n      <td>135075</td>\n      <td>3.586431</td>\n      <td>108</td>\n      <td>135075</td>\n      <td>22.139573</td>\n      <td>-100.991564</td>\n      <td>Mariscos El Pescador</td>\n      <td>No_Alcohol_Served</td>\n      <td>none</td>\n      <td>informal</td>\n      <td>no_accessibility</td>\n      <td>medium</td>\n      <td>familiar</td>\n    </tr>\n    <tr>\n      <th>8</th>\n      <td>135059</td>\n      <td>3.572333</td>\n      <td>47</td>\n      <td>135059</td>\n      <td>22.145108</td>\n      <td>-100.989547</td>\n      <td>Restaurant Bar Hacienda los Martinez</td>\n      <td>Wine-Beer</td>\n      <td>section</td>\n      <td>informal</td>\n      <td>no_accessibility</td>\n      <td>medium</td>\n      <td>familiar</td>\n    </tr>\n    <tr>\n      <th>9</th>\n      <td>135027</td>\n      <td>2.978654</td>\n      <td>97</td>\n      <td>135027</td>\n      <td>22.147145</td>\n      <td>-100.974494</td>\n      <td>Restaurant Orizatlan</td>\n      <td>Wine-Beer</td>\n      <td>none</td>\n      <td>informal</td>\n      <td>no_accessibility</td>\n      <td>medium</td>\n      <td>familiar</td>\n    </tr>\n  </tbody>\n</table>\n</div>"
     },
     "metadata": {},
     "output_type": "display_data"
    }
   ],
   "source": [
    "# Extended library\n",
    "from lenskit.algorithms import Recommender\n",
    "from lenskit.algorithms.user_knn import UserUser\n",
    "from lenskit.algorithms.item_knn import ItemItem\n",
    "\n",
    "# We use the collaborative user algorithm UserUser, that use the nearest neighbors\n",
    "num_recs = 10  # Number of recommendations to generate\n",
    "user_user = UserUser(15, min_nbrs=3)  # Minimum (3) and maximum (15) number of neighbors to consider\n",
    "recsys = Recommender.adapt(user_user)\n",
    "recsys.fit(simple_Ratings)\n",
    "# generate 10 recommendations for the selected user\n",
    "selected_restaurants_useruser = recsys.recommend(default_user_Profile[\"userID\"].iloc[0], 10)\n",
    "selected_restaurants_useruser = pd.merge(\n",
    "    selected_restaurants_useruser, default_res_Profile, left_on='item', right_on='placeID')\n",
    "display(selected_restaurants_useruser)\n"
   ]
  },
  {
   "cell_type": "code",
   "execution_count": 30,
   "metadata": {},
   "outputs": [
    {
     "data": {
      "text/plain": "      user  item\n0    U1001     9\n1    U1002    10\n2    U1003    13\n3    U1004     8\n4    U1005     9\n..     ...   ...\n132  U1133     9\n133  U1134    16\n134  U1135    14\n135  U1136    10\n136  U1137    14\n\n[92 rows x 2 columns]",
      "text/html": "<div>\n<style scoped>\n    .dataframe tbody tr th:only-of-type {\n        vertical-align: middle;\n    }\n\n    .dataframe tbody tr th {\n        vertical-align: top;\n    }\n\n    .dataframe thead th {\n        text-align: right;\n    }\n</style>\n<table border=\"1\" class=\"dataframe\">\n  <thead>\n    <tr style=\"text-align: right;\">\n      <th></th>\n      <th>user</th>\n      <th>item</th>\n    </tr>\n  </thead>\n  <tbody>\n    <tr>\n      <th>0</th>\n      <td>U1001</td>\n      <td>9</td>\n    </tr>\n    <tr>\n      <th>1</th>\n      <td>U1002</td>\n      <td>10</td>\n    </tr>\n    <tr>\n      <th>2</th>\n      <td>U1003</td>\n      <td>13</td>\n    </tr>\n    <tr>\n      <th>3</th>\n      <td>U1004</td>\n      <td>8</td>\n    </tr>\n    <tr>\n      <th>4</th>\n      <td>U1005</td>\n      <td>9</td>\n    </tr>\n    <tr>\n      <th>...</th>\n      <td>...</td>\n      <td>...</td>\n    </tr>\n    <tr>\n      <th>132</th>\n      <td>U1133</td>\n      <td>9</td>\n    </tr>\n    <tr>\n      <th>133</th>\n      <td>U1134</td>\n      <td>16</td>\n    </tr>\n    <tr>\n      <th>134</th>\n      <td>U1135</td>\n      <td>14</td>\n    </tr>\n    <tr>\n      <th>135</th>\n      <td>U1136</td>\n      <td>10</td>\n    </tr>\n    <tr>\n      <th>136</th>\n      <td>U1137</td>\n      <td>14</td>\n    </tr>\n  </tbody>\n</table>\n<p>92 rows × 2 columns</p>\n</div>"
     },
     "metadata": {},
     "output_type": "display_data"
    }
   ],
   "source": [
    "split_count = 6.9\n",
    "ratings_per_user=simple_Ratings[['user', 'item']].groupby(['user']).count()\n",
    "ratings_per_user=ratings_per_user.reset_index()\n",
    "users_more_than = ratings_per_user[ratings_per_user['item'] > split_count]\n",
    "display(users_more_than)\n"
   ]
  },
  {
   "cell_type": "code",
   "execution_count": 31,
   "metadata": {},
   "outputs": [],
   "source": [
    "# # select a sample of int(split_count) ratings from each user in users_more_than,\n",
    "# #  this is our training set\n",
    "# # what remains of the ratings is the testing set\n",
    "# train_set=pd.DataFrame(columns=ratings_df.columns)\n",
    "# test_set = pd.DataFrame(columns=ratings_df.columns)\n",
    "# for user in users_more_than.user:\n",
    "#     user_ratings=ratings_df[ratings_df['user']==user]\n",
    "#     sample = user_ratings.sample(int(split_count))\n",
    "#     train_set = train_set.append(sample)\n",
    "#     test_set = test_set.append(user_ratings.drop(sample.index))\n",
    "\n",
    "# train_set['rating'] = train_set['rating'].astype(float)\n",
    "# test_set['rating'] = test_set['rating'].astype(float)\n",
    "\n",
    "# display(train_set.dtypes)\n",
    "# display(test_set.dtypes)\n",
    "# # display(sum(users_more_than.item))\n"
   ]
  },
  {
   "cell_type": "code",
   "execution_count": 32,
   "metadata": {},
   "outputs": [],
   "source": [
    "# select a sample of int(split_count) ratings from each user in users_more_than,\n",
    "#  this is our training set\n",
    "# what remains of the ratings is the testing set\n",
    "train_set = pd.DataFrame(columns=simple_Ratings.columns)\n",
    "test_set = pd.DataFrame(columns=simple_Ratings.columns)\n",
    "for user in users_more_than.user:\n",
    "    user_ratings = simple_Ratings[simple_Ratings['user'] == user]\n",
    "    sample_size=len(user_ratings)*0.7\n",
    "    sample=user_ratings.sample(int(sample_size))\n",
    "    \n",
    "    train_set = train_set.append(sample)\n",
    "    test_set = test_set.append(user_ratings.drop(sample.index))\n",
    "\n",
    "train_set['rating'] = train_set['rating'].astype(float)\n",
    "test_set['rating'] = test_set['rating'].astype(float)\n",
    "\n",
    "# display(train_set.dtypes)\n",
    "# display(test_set.dtypes)\n",
    "# display(sum(users_more_than.item))\n"
   ]
  },
  {
   "cell_type": "code",
   "execution_count": 33,
   "metadata": {},
   "outputs": [
    {
     "data": {
      "text/plain": "1.69876418852379"
     },
     "execution_count": 33,
     "metadata": {},
     "output_type": "execute_result"
    }
   ],
   "source": [
    "from lenskit.algorithms.bias import Bias\n",
    "from lenskit.batch import predict\n",
    "from lenskit.metrics.predict import user_metric, rmse\n",
    "\n",
    "algo = Bias()\n",
    "algo.fit(train_set)\n",
    "preds = predict(algo, test_set)\n",
    "user_metric(preds, metric=rmse)\n"
   ]
  },
  {
   "cell_type": "code",
   "execution_count": 34,
   "metadata": {},
   "outputs": [
    {
     "data": {
      "text/plain": "1.5101567490033054"
     },
     "execution_count": 34,
     "metadata": {},
     "output_type": "execute_result"
    }
   ],
   "source": [
    "from lenskit.algorithms.bias import Bias\n",
    "from lenskit.algorithms import Recommender\n",
    "from lenskit.algorithms.user_knn import UserUser\n",
    "from lenskit.batch import predict\n",
    "from lenskit.metrics.predict import user_metric, rmse\n",
    "\n",
    "min_nn = 3\n",
    "max_nn = 15\n",
    "# Minimum (3) and maximum (15) number of neighbors to consider\n",
    "user_user = UserUser(max_nn, min_nbrs=min_nn)\n",
    "recsys = Recommender.adapt(user_user)\n",
    "algo = recsys\n",
    "algo.fit(train_set)\n",
    "preds = predict(algo, test_set)\n",
    "user_metric(preds, metric=rmse)\n"
   ]
  },
  {
   "cell_type": "code",
   "execution_count": 35,
   "metadata": {},
   "outputs": [
    {
     "data": {
      "text/plain": "       user    item  rating  prediction\n691   U1001  135045     3.0         NaN\n692   U1001  135033     3.0         NaN\n693   U1001  135025     6.0         NaN\n1061  U1002  132921     4.0         NaN\n1062  U1002  135062     4.0         NaN\n...     ...     ...     ...         ...\n879   U1137  132951     6.0         NaN\n886   U1137  135058     4.0         NaN\n888   U1137  135062     6.0         NaN\n893   U1137  132884     6.0         NaN\n895   U1137  135075     6.0    6.288993\n\n[324 rows x 4 columns]",
      "text/html": "<div>\n<style scoped>\n    .dataframe tbody tr th:only-of-type {\n        vertical-align: middle;\n    }\n\n    .dataframe tbody tr th {\n        vertical-align: top;\n    }\n\n    .dataframe thead th {\n        text-align: right;\n    }\n</style>\n<table border=\"1\" class=\"dataframe\">\n  <thead>\n    <tr style=\"text-align: right;\">\n      <th></th>\n      <th>user</th>\n      <th>item</th>\n      <th>rating</th>\n      <th>prediction</th>\n    </tr>\n  </thead>\n  <tbody>\n    <tr>\n      <th>691</th>\n      <td>U1001</td>\n      <td>135045</td>\n      <td>3.0</td>\n      <td>NaN</td>\n    </tr>\n    <tr>\n      <th>692</th>\n      <td>U1001</td>\n      <td>135033</td>\n      <td>3.0</td>\n      <td>NaN</td>\n    </tr>\n    <tr>\n      <th>693</th>\n      <td>U1001</td>\n      <td>135025</td>\n      <td>6.0</td>\n      <td>NaN</td>\n    </tr>\n    <tr>\n      <th>1061</th>\n      <td>U1002</td>\n      <td>132921</td>\n      <td>4.0</td>\n      <td>NaN</td>\n    </tr>\n    <tr>\n      <th>1062</th>\n      <td>U1002</td>\n      <td>135062</td>\n      <td>4.0</td>\n      <td>NaN</td>\n    </tr>\n    <tr>\n      <th>...</th>\n      <td>...</td>\n      <td>...</td>\n      <td>...</td>\n      <td>...</td>\n    </tr>\n    <tr>\n      <th>879</th>\n      <td>U1137</td>\n      <td>132951</td>\n      <td>6.0</td>\n      <td>NaN</td>\n    </tr>\n    <tr>\n      <th>886</th>\n      <td>U1137</td>\n      <td>135058</td>\n      <td>4.0</td>\n      <td>NaN</td>\n    </tr>\n    <tr>\n      <th>888</th>\n      <td>U1137</td>\n      <td>135062</td>\n      <td>6.0</td>\n      <td>NaN</td>\n    </tr>\n    <tr>\n      <th>893</th>\n      <td>U1137</td>\n      <td>132884</td>\n      <td>6.0</td>\n      <td>NaN</td>\n    </tr>\n    <tr>\n      <th>895</th>\n      <td>U1137</td>\n      <td>135075</td>\n      <td>6.0</td>\n      <td>6.288993</td>\n    </tr>\n  </tbody>\n</table>\n<p>324 rows × 4 columns</p>\n</div>"
     },
     "execution_count": 35,
     "metadata": {},
     "output_type": "execute_result"
    }
   ],
   "source": [
    "preds\n"
   ]
  },
  {
   "cell_type": "code",
   "execution_count": 36,
   "metadata": {},
   "outputs": [
    {
     "name": "stderr",
     "output_type": "stream",
     "text": [
      "D:\\Users\\anema\\Anaconda3\\envs\\husams_enviroment\\lib\\site-packages\\lenskit\\algorithms\\item_knn.py:119: NumbaTypeSafetyWarning: \u001B[1m\u001B[1m\u001B[1munsafe cast from uint64 to int64. Precision may be lost.\u001B[0m\u001B[0m\u001B[0m\n",
      "  b = blocks[bi]\n"
     ]
    },
    {
     "data": {
      "text/plain": "     item     score  index  placeID   latitude   longitude  \\\n0  135075  6.008032    108   135075  22.139573 -100.991564   \n1  135055  5.956059     55   135055  22.148854 -101.008472   \n2  132922  5.336616     95   132922  22.151135 -100.982311   \n3  132723  5.121101     62   132723  22.148934 -101.019845   \n4  135059  4.757577     47   135059  22.145108 -100.989547   \n5  135048  4.654353     82   135048  22.142017 -100.999246   \n6  132754  4.618155    117   132754  22.147738 -100.990616   \n7  135081  4.577799     61   135081  22.164842 -100.960493   \n8  135047  4.460356     74   135047  22.150921 -100.993828   \n9  135030  4.418764     35   135030  22.147880 -100.989472   \n\n                                      name            alcohol smoking_area  \\\n0                     Mariscos El Pescador  No_Alcohol_Served         none   \n1  la Cochinita Pibil Restaurante Yucateco  No_Alcohol_Served      section   \n2                     cafe punta del cielo  No_Alcohol_Served    permitted   \n3                        Gordas de morales           Full_Bar      section   \n4     Restaurant Bar Hacienda los Martinez          Wine-Beer      section   \n5                   Restaurante Bar Fu-hao          Wine-Beer         none   \n6                          Cabana Huasteca  No_Alcohol_Served         none   \n7                                  El Club  No_Alcohol_Served         none   \n8           Restaurante Casa de las Flores          Wine-Beer      section   \n9                 Preambulo Wifi Zone Cafe  No_Alcohol_Served         none   \n\n  dress_code     accessibility   price Rambience  \n0   informal  no_accessibility  medium  familiar  \n1   informal  no_accessibility    high  familiar  \n2     formal        completely  medium  familiar  \n3   informal        completely  medium  familiar  \n4   informal  no_accessibility  medium  familiar  \n5   informal  no_accessibility    high  familiar  \n6   informal         partially  medium  familiar  \n7   informal  no_accessibility  medium  familiar  \n8   informal  no_accessibility    high  familiar  \n9   informal  no_accessibility  medium     quiet  ",
      "text/html": "<div>\n<style scoped>\n    .dataframe tbody tr th:only-of-type {\n        vertical-align: middle;\n    }\n\n    .dataframe tbody tr th {\n        vertical-align: top;\n    }\n\n    .dataframe thead th {\n        text-align: right;\n    }\n</style>\n<table border=\"1\" class=\"dataframe\">\n  <thead>\n    <tr style=\"text-align: right;\">\n      <th></th>\n      <th>item</th>\n      <th>score</th>\n      <th>index</th>\n      <th>placeID</th>\n      <th>latitude</th>\n      <th>longitude</th>\n      <th>name</th>\n      <th>alcohol</th>\n      <th>smoking_area</th>\n      <th>dress_code</th>\n      <th>accessibility</th>\n      <th>price</th>\n      <th>Rambience</th>\n    </tr>\n  </thead>\n  <tbody>\n    <tr>\n      <th>0</th>\n      <td>135075</td>\n      <td>6.008032</td>\n      <td>108</td>\n      <td>135075</td>\n      <td>22.139573</td>\n      <td>-100.991564</td>\n      <td>Mariscos El Pescador</td>\n      <td>No_Alcohol_Served</td>\n      <td>none</td>\n      <td>informal</td>\n      <td>no_accessibility</td>\n      <td>medium</td>\n      <td>familiar</td>\n    </tr>\n    <tr>\n      <th>1</th>\n      <td>135055</td>\n      <td>5.956059</td>\n      <td>55</td>\n      <td>135055</td>\n      <td>22.148854</td>\n      <td>-101.008472</td>\n      <td>la Cochinita Pibil Restaurante Yucateco</td>\n      <td>No_Alcohol_Served</td>\n      <td>section</td>\n      <td>informal</td>\n      <td>no_accessibility</td>\n      <td>high</td>\n      <td>familiar</td>\n    </tr>\n    <tr>\n      <th>2</th>\n      <td>132922</td>\n      <td>5.336616</td>\n      <td>95</td>\n      <td>132922</td>\n      <td>22.151135</td>\n      <td>-100.982311</td>\n      <td>cafe punta del cielo</td>\n      <td>No_Alcohol_Served</td>\n      <td>permitted</td>\n      <td>formal</td>\n      <td>completely</td>\n      <td>medium</td>\n      <td>familiar</td>\n    </tr>\n    <tr>\n      <th>3</th>\n      <td>132723</td>\n      <td>5.121101</td>\n      <td>62</td>\n      <td>132723</td>\n      <td>22.148934</td>\n      <td>-101.019845</td>\n      <td>Gordas de morales</td>\n      <td>Full_Bar</td>\n      <td>section</td>\n      <td>informal</td>\n      <td>completely</td>\n      <td>medium</td>\n      <td>familiar</td>\n    </tr>\n    <tr>\n      <th>4</th>\n      <td>135059</td>\n      <td>4.757577</td>\n      <td>47</td>\n      <td>135059</td>\n      <td>22.145108</td>\n      <td>-100.989547</td>\n      <td>Restaurant Bar Hacienda los Martinez</td>\n      <td>Wine-Beer</td>\n      <td>section</td>\n      <td>informal</td>\n      <td>no_accessibility</td>\n      <td>medium</td>\n      <td>familiar</td>\n    </tr>\n    <tr>\n      <th>5</th>\n      <td>135048</td>\n      <td>4.654353</td>\n      <td>82</td>\n      <td>135048</td>\n      <td>22.142017</td>\n      <td>-100.999246</td>\n      <td>Restaurante Bar Fu-hao</td>\n      <td>Wine-Beer</td>\n      <td>none</td>\n      <td>informal</td>\n      <td>no_accessibility</td>\n      <td>high</td>\n      <td>familiar</td>\n    </tr>\n    <tr>\n      <th>6</th>\n      <td>132754</td>\n      <td>4.618155</td>\n      <td>117</td>\n      <td>132754</td>\n      <td>22.147738</td>\n      <td>-100.990616</td>\n      <td>Cabana Huasteca</td>\n      <td>No_Alcohol_Served</td>\n      <td>none</td>\n      <td>informal</td>\n      <td>partially</td>\n      <td>medium</td>\n      <td>familiar</td>\n    </tr>\n    <tr>\n      <th>7</th>\n      <td>135081</td>\n      <td>4.577799</td>\n      <td>61</td>\n      <td>135081</td>\n      <td>22.164842</td>\n      <td>-100.960493</td>\n      <td>El Club</td>\n      <td>No_Alcohol_Served</td>\n      <td>none</td>\n      <td>informal</td>\n      <td>no_accessibility</td>\n      <td>medium</td>\n      <td>familiar</td>\n    </tr>\n    <tr>\n      <th>8</th>\n      <td>135047</td>\n      <td>4.460356</td>\n      <td>74</td>\n      <td>135047</td>\n      <td>22.150921</td>\n      <td>-100.993828</td>\n      <td>Restaurante Casa de las Flores</td>\n      <td>Wine-Beer</td>\n      <td>section</td>\n      <td>informal</td>\n      <td>no_accessibility</td>\n      <td>high</td>\n      <td>familiar</td>\n    </tr>\n    <tr>\n      <th>9</th>\n      <td>135030</td>\n      <td>4.418764</td>\n      <td>35</td>\n      <td>135030</td>\n      <td>22.147880</td>\n      <td>-100.989472</td>\n      <td>Preambulo Wifi Zone Cafe</td>\n      <td>No_Alcohol_Served</td>\n      <td>none</td>\n      <td>informal</td>\n      <td>no_accessibility</td>\n      <td>medium</td>\n      <td>quiet</td>\n    </tr>\n  </tbody>\n</table>\n</div>"
     },
     "metadata": {},
     "output_type": "display_data"
    }
   ],
   "source": [
    "# We use the collaborative user algorithm ItemItem, that use the nearest neighbors\n",
    "num_recs = 10  # Number of recommendations to generate\n",
    "item_item = ItemItem(15, min_nbrs=3)  # Minimum (3) and maximum (15) number of neighbors to consider\n",
    "recsys_itemitem = Recommender.adapt(item_item)\n",
    "recsys_itemitem.fit(simple_Ratings)\n",
    "\n",
    "# generate 10 recommendations for the selected user\n",
    "selected_restaurants_itemitem = recsys_itemitem.recommend(default_user_Profile[\"userID\"].iloc[0], 10)\n",
    "selected_restaurants_itemitem = pd.merge(\n",
    "    selected_restaurants_itemitem, default_res_Profile, left_on='item', right_on='placeID')\n",
    "display(selected_restaurants_itemitem)\n"
   ]
  },
  {
   "cell_type": "markdown",
   "metadata": {},
   "source": [
    "## GROUP RECOMMENDATIONS\n",
    "#### Average Without Misery"
   ]
  },
  {
   "cell_type": "code",
   "execution_count": 37,
   "metadata": {},
   "outputs": [
    {
     "data": {
      "text/plain": "'U1001'"
     },
     "metadata": {},
     "output_type": "display_data"
    }
   ],
   "source": [
    "group = default_user_Profile.iloc[2:7]\n",
    "display(default_user_Profile[\"userID\"].iloc[0])\n"
   ]
  },
  {
   "cell_type": "code",
   "execution_count": 38,
   "metadata": {},
   "outputs": [],
   "source": [
    "# Extended library\n",
    "from lenskit.algorithms import Recommender\n",
    "from lenskit.algorithms.user_knn import UserUser\n",
    "from lenskit.algorithms.item_knn import ItemItem\n",
    "\n",
    "# Minimum (3) and maximum (15) number of neighbors to consider\n",
    "user_user = UserUser(15, min_nbrs=3)\n",
    "recsys = Recommender.adapt(user_user)\n",
    "recsys.fit(simple_Ratings)\n",
    "\n",
    "def get_predected_ratings(user_id:str):\n",
    "# We use the collaborative user algorithm UserUser, that use the nearest neighbors\n",
    "    num_recs = 50  # Number of recommendations to generate\n",
    "    # user_user = UserUser(None, min_nbrs=3)  # Minimum (3) and maximum (15) number of neighbors to consider\n",
    "    # recsys = Recommender.adapt(user_user)\n",
    "    # recsys.fit(simple_Ratings)\n",
    "\n",
    "    selected_restaurants_useruser = recsys.recommend(user_id)\n",
    "    selected_restaurants_useruser['user'] = user_id\n",
    "    selected_restaurants_useruser = selected_restaurants_useruser[['user','item','score']]\n",
    "    return selected_restaurants_useruser\n",
    "\n",
    "\n",
    "item_item = ItemItem(15, min_nbrs=3)  # Minimum (3) and maximum (15) number of neighbors to consider\n",
    "recsys_itemitem = Recommender.adapt(item_item)\n",
    "recsys_itemitem.fit(simple_Ratings)\n",
    "\n",
    "def get_predected_ratings_item(user_id: str):\n",
    "    # We use the collaborative user algorithm UserUser, that use the nearest neighbors\n",
    "    num_recs = 50  # Number of recommendations to generate\n",
    "    # user_user = UserUser(None, min_nbrs=3)  # Minimum (3) and maximum (15) number of neighbors to consider\n",
    "    # recsys = Recommender.adapt(user_user)\n",
    "    # recsys.fit(simple_Ratings)\n",
    "\n",
    "    selected_restaurants_useruser = recsys_itemitem.recommend(user_id)\n",
    "    selected_restaurants_useruser['user'] = user_id\n",
    "    selected_restaurants_useruser = selected_restaurants_useruser[['user', 'item', 'score']]\n",
    "    return selected_restaurants_useruser\n",
    "\n",
    "\n",
    "def average_without_misery(rat):\n",
    "    conti = True\n",
    "    thres = 6\n",
    "    while conti:\n",
    "        ratings = rat\n",
    "        ratings = ratings.drop(ratings[ratings.score < thres].index)\n",
    "        # display(thres)\n",
    "\n",
    "        test = ratings.pivot(index='item', columns='user', values='score').dropna()\n",
    "\n",
    "        test['mean'] = test.mean(1)\n",
    "        if len(test) > 0:\n",
    "            conti = False\n",
    "        else:\n",
    "            thres = thres - 1\n",
    "\n",
    "        if thres == 0:\n",
    "            break\n",
    "\n",
    "    return test, thres\n"
   ]
  },
  {
   "cell_type": "code",
   "execution_count": 39,
   "metadata": {},
   "outputs": [
    {
     "data": {
      "text/plain": "user       U1003     U1004     U1005     U1006     U1007      mean\nitem                                                              \n135025  5.823489  6.332990  4.368716  5.065468  3.000000  4.918132\n135030  5.016538  5.563444  3.899336  4.000000  3.758190  4.447502\n135075  6.000000  6.361904  4.991723  4.000000  3.421291  4.954983",
      "text/html": "<div>\n<style scoped>\n    .dataframe tbody tr th:only-of-type {\n        vertical-align: middle;\n    }\n\n    .dataframe tbody tr th {\n        vertical-align: top;\n    }\n\n    .dataframe thead th {\n        text-align: right;\n    }\n</style>\n<table border=\"1\" class=\"dataframe\">\n  <thead>\n    <tr style=\"text-align: right;\">\n      <th>user</th>\n      <th>U1003</th>\n      <th>U1004</th>\n      <th>U1005</th>\n      <th>U1006</th>\n      <th>U1007</th>\n      <th>mean</th>\n    </tr>\n    <tr>\n      <th>item</th>\n      <th></th>\n      <th></th>\n      <th></th>\n      <th></th>\n      <th></th>\n      <th></th>\n    </tr>\n  </thead>\n  <tbody>\n    <tr>\n      <th>135025</th>\n      <td>5.823489</td>\n      <td>6.332990</td>\n      <td>4.368716</td>\n      <td>5.065468</td>\n      <td>3.000000</td>\n      <td>4.918132</td>\n    </tr>\n    <tr>\n      <th>135030</th>\n      <td>5.016538</td>\n      <td>5.563444</td>\n      <td>3.899336</td>\n      <td>4.000000</td>\n      <td>3.758190</td>\n      <td>4.447502</td>\n    </tr>\n    <tr>\n      <th>135075</th>\n      <td>6.000000</td>\n      <td>6.361904</td>\n      <td>4.991723</td>\n      <td>4.000000</td>\n      <td>3.421291</td>\n      <td>4.954983</td>\n    </tr>\n  </tbody>\n</table>\n</div>"
     },
     "metadata": {},
     "output_type": "display_data"
    },
    {
     "data": {
      "text/plain": "      U1003     U1004     U1005     U1006     U1007      mean  index  placeID  \\\n0  5.823489  6.332990  4.368716  5.065468  3.000000  4.918132     34   135025   \n1  5.016538  5.563444  3.899336  4.000000  3.758190  4.447502     35   135030   \n2  6.000000  6.361904  4.991723  4.000000  3.421291  4.954983    108   135075   \n\n    latitude   longitude                        name            alcohol  \\\n0  22.149550 -100.977970  El Rincon de San Francisco  No_Alcohol_Served   \n1  22.147880 -100.989472    Preambulo Wifi Zone Cafe  No_Alcohol_Served   \n2  22.139573 -100.991564        Mariscos El Pescador  No_Alcohol_Served   \n\n  smoking_area dress_code     accessibility   price Rambience  \n0         none   informal  no_accessibility  medium  familiar  \n1         none   informal  no_accessibility  medium     quiet  \n2         none   informal  no_accessibility  medium  familiar  ",
      "text/html": "<div>\n<style scoped>\n    .dataframe tbody tr th:only-of-type {\n        vertical-align: middle;\n    }\n\n    .dataframe tbody tr th {\n        vertical-align: top;\n    }\n\n    .dataframe thead th {\n        text-align: right;\n    }\n</style>\n<table border=\"1\" class=\"dataframe\">\n  <thead>\n    <tr style=\"text-align: right;\">\n      <th></th>\n      <th>U1003</th>\n      <th>U1004</th>\n      <th>U1005</th>\n      <th>U1006</th>\n      <th>U1007</th>\n      <th>mean</th>\n      <th>index</th>\n      <th>placeID</th>\n      <th>latitude</th>\n      <th>longitude</th>\n      <th>name</th>\n      <th>alcohol</th>\n      <th>smoking_area</th>\n      <th>dress_code</th>\n      <th>accessibility</th>\n      <th>price</th>\n      <th>Rambience</th>\n    </tr>\n  </thead>\n  <tbody>\n    <tr>\n      <th>0</th>\n      <td>5.823489</td>\n      <td>6.332990</td>\n      <td>4.368716</td>\n      <td>5.065468</td>\n      <td>3.000000</td>\n      <td>4.918132</td>\n      <td>34</td>\n      <td>135025</td>\n      <td>22.149550</td>\n      <td>-100.977970</td>\n      <td>El Rincon de San Francisco</td>\n      <td>No_Alcohol_Served</td>\n      <td>none</td>\n      <td>informal</td>\n      <td>no_accessibility</td>\n      <td>medium</td>\n      <td>familiar</td>\n    </tr>\n    <tr>\n      <th>1</th>\n      <td>5.016538</td>\n      <td>5.563444</td>\n      <td>3.899336</td>\n      <td>4.000000</td>\n      <td>3.758190</td>\n      <td>4.447502</td>\n      <td>35</td>\n      <td>135030</td>\n      <td>22.147880</td>\n      <td>-100.989472</td>\n      <td>Preambulo Wifi Zone Cafe</td>\n      <td>No_Alcohol_Served</td>\n      <td>none</td>\n      <td>informal</td>\n      <td>no_accessibility</td>\n      <td>medium</td>\n      <td>quiet</td>\n    </tr>\n    <tr>\n      <th>2</th>\n      <td>6.000000</td>\n      <td>6.361904</td>\n      <td>4.991723</td>\n      <td>4.000000</td>\n      <td>3.421291</td>\n      <td>4.954983</td>\n      <td>108</td>\n      <td>135075</td>\n      <td>22.139573</td>\n      <td>-100.991564</td>\n      <td>Mariscos El Pescador</td>\n      <td>No_Alcohol_Served</td>\n      <td>none</td>\n      <td>informal</td>\n      <td>no_accessibility</td>\n      <td>medium</td>\n      <td>familiar</td>\n    </tr>\n  </tbody>\n</table>\n</div>"
     },
     "metadata": {},
     "output_type": "display_data"
    },
    {
     "data": {
      "text/plain": "3"
     },
     "metadata": {},
     "output_type": "display_data"
    },
    {
     "data": {
      "text/plain": "3"
     },
     "execution_count": 39,
     "metadata": {},
     "output_type": "execute_result"
    }
   ],
   "source": [
    "ratings = pd.DataFrame(columns=['user','item','score'])\n",
    "group_size = len(group.userID)\n",
    "for user in group.userID:\n",
    "    # This here has to be the recommender algorithm, given a userID it returns recommendations with predicted ratings\n",
    "    temp=get_predected_ratings(user)\n",
    "    # display(temp)\n",
    "    ratings=ratings.append(temp)\n",
    "    rated_items=simple_Ratings[simple_Ratings['user'] == user]\n",
    "    rated_items = rated_items.rename(columns={\"rating\": \"score\"})\n",
    "    ratings = ratings.append(rated_items)\n",
    "\n",
    "\n",
    "\n",
    "ratings = ratings.reset_index(drop=True)\n",
    "\n",
    "\"\"\"\n",
    "PlaceID Number of user Rated\n",
    "ahfjhasjfhak 3/5\n",
    "\n",
    "\"\"\"\n",
    "\n",
    "test, thres = average_without_misery(rat=ratings)\n",
    "display(test)\n",
    "t2 = pd.merge(test, default_res_Profile, left_on='item', right_on='placeID')\n",
    "display(t2)\n",
    "display(len(test))\n",
    "thres\n"
   ]
  },
  {
   "cell_type": "code",
   "execution_count": 40,
   "metadata": {},
   "outputs": [],
   "source": [
    "def rated_by_x_users(ratings, group_size):\n",
    "    dict = {}\n",
    "    userIDs = ratings.columns[:5]\n",
    "    for item in ratings['placeID']:\n",
    "        count = 0\n",
    "        item_ratings = simple_Ratings[simple_Ratings['item'] == item]\n",
    "        for user in userIDs:\n",
    "            user_count = len(item_ratings[item_ratings['user'] == user])\n",
    "            count = count + user_count\n",
    "            count = count / group_size\n",
    "            \n",
    "        dict[item] = count\n",
    "    #FOR TESTING\n",
    "    # dict[ratings['placeID'][0]] = 0.7\n",
    "    # dict[ratings['placeID'][1]] = 0.5\n",
    "    return dict\n",
    "\n",
    "\n",
    "def group_explanation(ratings, group_size,thres):\n",
    "    raitngs_per_item = rated_by_x_users(ratings, group_size)\n",
    "    explanation_per_item={}\n",
    "    for item in ratings['placeID']:\n",
    "        text=\"\"\n",
    "        perc = raitngs_per_item[item]\n",
    "        if thres>=4:\n",
    "            text = text + \"This restaurant was recommended because everybody is likely to like it, \"\n",
    "        elif thres >= 2:\n",
    "            text = text + \"This restaurant was recommended because nobody is likely to dislike it, \"\n",
    "        else:\n",
    "            text = text + \"This restaurant was recommended because only X people are likely to dislike it, \"\n",
    "\n",
    "        if perc >= 0.66:\n",
    "            text = text + \"whereas this restaurant is positively rated by the majority of the group\"\n",
    "        elif perc >= 0.33:\n",
    "            text = text + \"whereas this restaurant is positively rated by a portion of the group\"\n",
    "        else:\n",
    "            text = text + \"whereas this restaurant is predicted to be most liked by the group as a whole\"\n",
    "        explanation_per_item[item]=text\n",
    "    return explanation_per_item\n",
    "\n"
   ]
  },
  {
   "cell_type": "code",
   "execution_count": 41,
   "metadata": {},
   "outputs": [
    {
     "data": {
      "text/plain": "{135025: 'This restaurant was recommended because nobody is likely to dislike it, whereas this restaurant is predicted to be most liked by the group as a whole',\n 135030: 'This restaurant was recommended because nobody is likely to dislike it, whereas this restaurant is predicted to be most liked by the group as a whole',\n 135075: 'This restaurant was recommended because nobody is likely to dislike it, whereas this restaurant is predicted to be most liked by the group as a whole'}"
     },
     "execution_count": 41,
     "metadata": {},
     "output_type": "execute_result"
    }
   ],
   "source": [
    "group_explanation(t2, group_size,thres)\n"
   ]
  },
  {
   "cell_type": "markdown",
   "metadata": {},
   "source": [
    "# Evaluating Group Shit"
   ]
  },
  {
   "cell_type": "code",
   "execution_count": 42,
   "metadata": {},
   "outputs": [],
   "source": [
    "Groups=[\n",
    "    ['U1050', 'U1067', 'U1082', 'U1087'],\n",
    "    ['U1026', 'U1065', 'U1129', 'U1130'],\n",
    "    ['U1011', 'U1039', 'U1060', 'U1080'],\n",
    "    ['U1006', 'U1007', 'U1013', 'U1033'],\n",
    "    ['U1046', 'U1055', 'U1061', 'U1073'],\n",
    "    ['U1083', 'U1090', 'U1091', 'U1092'],\n",
    "    ['U1092', 'U1108', 'U1112', 'U1134'],\n",
    "    ['U1006', 'U1046', 'U1083', 'U1092'],\n",
    "    ['U1007', 'U1055', 'U1090', 'U1108'],\n",
    "    ['U1013', 'U1061', 'U1091', 'U1112'],\n",
    "    ['U1033', 'U1073', 'U1092', 'U1134'],\n",
    "    ['U1035', 'U1044', 'U1118', 'U1119']\n",
    "]\n",
    "\n",
    "Test_Set_Items_users={\n",
    "    132560: ['U1050', 'U1067', 'U1082', 'U1087'],\n",
    "    132732: ['U1050', 'U1067', 'U1082', 'U1087'],\n",
    "    132561: ['U1026', 'U1065', 'U1129', 'U1130'],\n",
    "    132654: ['U1026', 'U1065', 'U1129', 'U1130'],\n",
    "    132706: ['U1026', 'U1065', 'U1129', 'U1130'],\n",
    "    132564: ['U1011', 'U1039', 'U1060', 'U1080'],\n",
    "    132572: ['U1006', 'U1007', 'U1013', 'U1033'],\n",
    "    132572: ['U1046', 'U1055', 'U1061', 'U1073'],\n",
    "    132572: ['U1083', 'U1090', 'U1091', 'U1092'],\n",
    "    132572: ['U1092', 'U1108', 'U1112', 'U1134'],\n",
    "    132572: ['U1006', 'U1046', 'U1083', 'U1092'],\n",
    "    132572: ['U1006', 'U1046', 'U1083', 'U1092'],\n",
    "    132572: ['U1007', 'U1055', 'U1090', 'U1108'],\n",
    "    132572: ['U1013', 'U1061', 'U1091', 'U1112'],\n",
    "    132572: ['U1033', 'U1073', 'U1092', 'U1134'],\n",
    "    132583: ['U1035', 'U1044', 'U1118', 'U1119'],\n",
    "    132723: ['U1061', 'U1083', 'U1092', 'U1108']\n",
    "}\n"
   ]
  },
  {
   "cell_type": "code",
   "execution_count": 43,
   "metadata": {},
   "outputs": [],
   "source": [
    "test_set=pd.DataFrame(columns=simple_Ratings.columns)\n",
    "\n",
    "for item in Test_Set_Items_users.keys():\n",
    "    for user in Test_Set_Items_users[item]:\n",
    "        a = simple_Ratings[simple_Ratings['user'] == user]\n",
    "        b = a[a['item'] == item]\n",
    "        # display(b)\n",
    "        test_set=test_set.append(b)\n",
    "\n",
    "train_set=simple_Ratings.drop(test_set.index)\n"
   ]
  },
  {
   "cell_type": "markdown",
   "metadata": {},
   "source": [
    "# PASCAL ADD BELLOW"
   ]
  },
  {
   "cell_type": "code",
   "execution_count": 44,
   "metadata": {},
   "outputs": [
    {
     "data": {
      "text/plain": "       user    item rating  prediction\n1118  U1050  132560      2    4.166667\n14    U1067  132560      1    4.500000\n42    U1082  132560      0         NaN\n1133  U1087  132560      4    4.041667\n1115  U1050  132732      2    3.333333\n11    U1067  132732      5    2.916667\n143   U1082  132732      0         NaN\n1131  U1087  132732      5    3.333333\n126   U1026  132561      3    3.375000\n1141  U1065  132561      3    3.875000\n1138  U1129  132561      5    3.458333\n1147  U1130  132561      0         NaN\n128   U1026  132654      0    3.375000\n1144  U1065  132654      3    3.875000\n1124  U1129  132654      0    3.458333\n1146  U1130  132654      0         NaN\n127   U1026  132706      2    3.791667\n1137  U1065  132706      5    4.000000\n1123  U1129  132706      1    2.833333\n1149  U1130  132706      4         NaN\n1154  U1011  132564      3    3.625000\n1143  U1039  132564      4         NaN\n43    U1060  132564      6    2.916667\n141   U1080  132564      3    4.458333\n808   U1033  132572      1         NaN\n1036  U1073  132572      0    3.458333\n734   U1092  132572      1         NaN\n261   U1134  132572      0    3.208333\n192   U1035  132583      3    3.541667\n27    U1044  132583      4    3.708333\n154   U1118  132583      0    2.791667\n303   U1119  132583      6    3.333333\n910   U1061  132723      5    3.416667\n62    U1083  132723      3         NaN\n739   U1092  132723      3         NaN\n71    U1108  132723      6    3.083333",
      "text/html": "<div>\n<style scoped>\n    .dataframe tbody tr th:only-of-type {\n        vertical-align: middle;\n    }\n\n    .dataframe tbody tr th {\n        vertical-align: top;\n    }\n\n    .dataframe thead th {\n        text-align: right;\n    }\n</style>\n<table border=\"1\" class=\"dataframe\">\n  <thead>\n    <tr style=\"text-align: right;\">\n      <th></th>\n      <th>user</th>\n      <th>item</th>\n      <th>rating</th>\n      <th>prediction</th>\n    </tr>\n  </thead>\n  <tbody>\n    <tr>\n      <th>1118</th>\n      <td>U1050</td>\n      <td>132560</td>\n      <td>2</td>\n      <td>4.166667</td>\n    </tr>\n    <tr>\n      <th>14</th>\n      <td>U1067</td>\n      <td>132560</td>\n      <td>1</td>\n      <td>4.500000</td>\n    </tr>\n    <tr>\n      <th>42</th>\n      <td>U1082</td>\n      <td>132560</td>\n      <td>0</td>\n      <td>NaN</td>\n    </tr>\n    <tr>\n      <th>1133</th>\n      <td>U1087</td>\n      <td>132560</td>\n      <td>4</td>\n      <td>4.041667</td>\n    </tr>\n    <tr>\n      <th>1115</th>\n      <td>U1050</td>\n      <td>132732</td>\n      <td>2</td>\n      <td>3.333333</td>\n    </tr>\n    <tr>\n      <th>11</th>\n      <td>U1067</td>\n      <td>132732</td>\n      <td>5</td>\n      <td>2.916667</td>\n    </tr>\n    <tr>\n      <th>143</th>\n      <td>U1082</td>\n      <td>132732</td>\n      <td>0</td>\n      <td>NaN</td>\n    </tr>\n    <tr>\n      <th>1131</th>\n      <td>U1087</td>\n      <td>132732</td>\n      <td>5</td>\n      <td>3.333333</td>\n    </tr>\n    <tr>\n      <th>126</th>\n      <td>U1026</td>\n      <td>132561</td>\n      <td>3</td>\n      <td>3.375000</td>\n    </tr>\n    <tr>\n      <th>1141</th>\n      <td>U1065</td>\n      <td>132561</td>\n      <td>3</td>\n      <td>3.875000</td>\n    </tr>\n    <tr>\n      <th>1138</th>\n      <td>U1129</td>\n      <td>132561</td>\n      <td>5</td>\n      <td>3.458333</td>\n    </tr>\n    <tr>\n      <th>1147</th>\n      <td>U1130</td>\n      <td>132561</td>\n      <td>0</td>\n      <td>NaN</td>\n    </tr>\n    <tr>\n      <th>128</th>\n      <td>U1026</td>\n      <td>132654</td>\n      <td>0</td>\n      <td>3.375000</td>\n    </tr>\n    <tr>\n      <th>1144</th>\n      <td>U1065</td>\n      <td>132654</td>\n      <td>3</td>\n      <td>3.875000</td>\n    </tr>\n    <tr>\n      <th>1124</th>\n      <td>U1129</td>\n      <td>132654</td>\n      <td>0</td>\n      <td>3.458333</td>\n    </tr>\n    <tr>\n      <th>1146</th>\n      <td>U1130</td>\n      <td>132654</td>\n      <td>0</td>\n      <td>NaN</td>\n    </tr>\n    <tr>\n      <th>127</th>\n      <td>U1026</td>\n      <td>132706</td>\n      <td>2</td>\n      <td>3.791667</td>\n    </tr>\n    <tr>\n      <th>1137</th>\n      <td>U1065</td>\n      <td>132706</td>\n      <td>5</td>\n      <td>4.000000</td>\n    </tr>\n    <tr>\n      <th>1123</th>\n      <td>U1129</td>\n      <td>132706</td>\n      <td>1</td>\n      <td>2.833333</td>\n    </tr>\n    <tr>\n      <th>1149</th>\n      <td>U1130</td>\n      <td>132706</td>\n      <td>4</td>\n      <td>NaN</td>\n    </tr>\n    <tr>\n      <th>1154</th>\n      <td>U1011</td>\n      <td>132564</td>\n      <td>3</td>\n      <td>3.625000</td>\n    </tr>\n    <tr>\n      <th>1143</th>\n      <td>U1039</td>\n      <td>132564</td>\n      <td>4</td>\n      <td>NaN</td>\n    </tr>\n    <tr>\n      <th>43</th>\n      <td>U1060</td>\n      <td>132564</td>\n      <td>6</td>\n      <td>2.916667</td>\n    </tr>\n    <tr>\n      <th>141</th>\n      <td>U1080</td>\n      <td>132564</td>\n      <td>3</td>\n      <td>4.458333</td>\n    </tr>\n    <tr>\n      <th>808</th>\n      <td>U1033</td>\n      <td>132572</td>\n      <td>1</td>\n      <td>NaN</td>\n    </tr>\n    <tr>\n      <th>1036</th>\n      <td>U1073</td>\n      <td>132572</td>\n      <td>0</td>\n      <td>3.458333</td>\n    </tr>\n    <tr>\n      <th>734</th>\n      <td>U1092</td>\n      <td>132572</td>\n      <td>1</td>\n      <td>NaN</td>\n    </tr>\n    <tr>\n      <th>261</th>\n      <td>U1134</td>\n      <td>132572</td>\n      <td>0</td>\n      <td>3.208333</td>\n    </tr>\n    <tr>\n      <th>192</th>\n      <td>U1035</td>\n      <td>132583</td>\n      <td>3</td>\n      <td>3.541667</td>\n    </tr>\n    <tr>\n      <th>27</th>\n      <td>U1044</td>\n      <td>132583</td>\n      <td>4</td>\n      <td>3.708333</td>\n    </tr>\n    <tr>\n      <th>154</th>\n      <td>U1118</td>\n      <td>132583</td>\n      <td>0</td>\n      <td>2.791667</td>\n    </tr>\n    <tr>\n      <th>303</th>\n      <td>U1119</td>\n      <td>132583</td>\n      <td>6</td>\n      <td>3.333333</td>\n    </tr>\n    <tr>\n      <th>910</th>\n      <td>U1061</td>\n      <td>132723</td>\n      <td>5</td>\n      <td>3.416667</td>\n    </tr>\n    <tr>\n      <th>62</th>\n      <td>U1083</td>\n      <td>132723</td>\n      <td>3</td>\n      <td>NaN</td>\n    </tr>\n    <tr>\n      <th>739</th>\n      <td>U1092</td>\n      <td>132723</td>\n      <td>3</td>\n      <td>NaN</td>\n    </tr>\n    <tr>\n      <th>71</th>\n      <td>U1108</td>\n      <td>132723</td>\n      <td>6</td>\n      <td>3.083333</td>\n    </tr>\n  </tbody>\n</table>\n</div>"
     },
     "execution_count": 44,
     "metadata": {},
     "output_type": "execute_result"
    }
   ],
   "source": [
    "from lenskit.algorithms.bias import Bias\n",
    "from lenskit.batch import predict\n",
    "from lenskit.metrics.predict import user_metric, rmse\n",
    "from we_recommend_a_grade_10.methods import *\n",
    "\n",
    "# algo = Bias()\n",
    "# algo.fit(train_set)\n",
    "# preds = predict(algo, test_set)\n",
    "\n",
    "#user_user = UserUser(15, min_nbrs=3)\n",
    "#recsys = Recommender.adapt(item_item)\n",
    "#recsys.fit(train_set)\n",
    "\n",
    "\n",
    "preds, _, _ = train_and_run_VB(train_set, test_set, n=24)\n",
    "# user_metric(preds, metric=rmse)\n",
    "preds\n"
   ]
  },
  {
   "cell_type": "code",
   "execution_count": 45,
   "metadata": {},
   "outputs": [
    {
     "data": {
      "text/plain": "{101: ['U1050', 'U1067', 'U1082', 'U1087'],\n 102: ['U1026', 'U1065', 'U1129', 'U1130'],\n 103: ['U1011', 'U1039', 'U1060', 'U1080'],\n 104: ['U1006', 'U1007', 'U1013', 'U1033'],\n 105: ['U1046', 'U1055', 'U1061', 'U1073'],\n 106: ['U1083', 'U1090', 'U1091', 'U1092'],\n 107: ['U1092', 'U1108', 'U1112', 'U1134'],\n 108: ['U1006', 'U1046', 'U1083', 'U1092'],\n 109: ['U1007', 'U1055', 'U1090', 'U1108'],\n 110: ['U1013', 'U1061', 'U1091', 'U1112'],\n 111: ['U1033', 'U1073', 'U1092', 'U1134'],\n 112: ['U1035', 'U1044', 'U1118', 'U1119']}"
     },
     "execution_count": 45,
     "metadata": {},
     "output_type": "execute_result"
    }
   ],
   "source": [
    "\n",
    "sample_groups = {}\n",
    "i=100\n",
    "for g in Groups:\n",
    "    i=i+1\n",
    "    sample_groups[i] = g\n",
    "\n",
    "sample_groups\n"
   ]
  },
  {
   "cell_type": "code",
   "execution_count": 46,
   "metadata": {},
   "outputs": [],
   "source": [
    "predss = pd.DataFrame(columns=['user', 'item', 'rating', 'prediction'])\n",
    "raaat=None\n",
    "t_e=0\n",
    "for i in sample_groups.keys():\n",
    "    group = sample_groups[i]\n",
    "    ratings_t = pd.DataFrame(columns=['user', 'item', 'score'])\n",
    "    ratings_p = pd.DataFrame(columns=['user', 'item', 'score'])\n",
    "    group_size = len(group)\n",
    "    for user in group:\n",
    "        # This here has to be the recommender algorithm, given a userID it returns recommendations with predicted ratings\n",
    "        temp = preds[preds.user == user]\n",
    "        # display(temp)\n",
    "        ratings_true = temp[['user', 'item', 'rating']]\n",
    "        ratings_pred = temp[['user', 'item', 'prediction']]\n",
    "\n",
    "        ratings_true = ratings_true.rename(columns={\"rating\": \"score\"})\n",
    "        ratings_pred = ratings_pred.rename(columns={\"prediction\": \"score\"})\n",
    "\n",
    "        ratings_t = ratings_t.append(ratings_true)\n",
    "        ratings_p = ratings_p.append(ratings_pred)\n",
    "\n",
    "    ratings_t = ratings_t.reset_index(drop=True)\n",
    "    ratings_p = ratings_p.reset_index(drop=True)\n",
    "\n",
    "    test, thres = average_without_misery(rat=ratings_t)\n",
    "    test1, thres1 = average_without_misery(rat=ratings_p)\n",
    "\n",
    "    test= pd.merge(test, default_res_Profile, left_on='item', right_on='placeID')\n",
    "    test1 = pd.merge(test1, default_res_Profile, left_on='item', right_on='placeID')\n",
    "\n",
    "    if(raaat is None):\n",
    "        raaat=test1\n",
    "        t_e=thres1\n",
    "    elif len(test1) > len(raaat):\n",
    "        raaat=test1\n",
    "        t_e=thres1\n",
    "    \n",
    "    test = test.rename(columns={\"mean\": \"rating\", \"placeID\": \"item\"})\n",
    "    test1 = test1.rename(columns={\"mean\": \"prediction\", \"placeID\": \"item\"})\n",
    "    \n",
    "    test['user'] = i\n",
    "    test1['user'] = i\n",
    "    \n",
    "    test=test[['item','rating']]\n",
    "    test1 = test1[['item', 'prediction']]\n",
    "\n",
    "    pred_temp = pd.merge(test, test1, left_on='item', right_on='item')\n",
    "\n",
    "    pred_temp['user'] = i\n",
    "    pred_temps=pred_temp[['user', 'item', 'rating', 'prediction']]\n",
    "    predss=predss.append(pred_temps)\n",
    "\n",
    "\n",
    "\n"
   ]
  },
  {
   "cell_type": "code",
   "execution_count": 47,
   "metadata": {},
   "outputs": [
    {
     "data": {
      "text/plain": "  user    item  rating  prediction\n0  109  132723     6.0    3.083333\n1  110  132723     5.0    3.416667\n2  112  132583     6.0    3.527778",
      "text/html": "<div>\n<style scoped>\n    .dataframe tbody tr th:only-of-type {\n        vertical-align: middle;\n    }\n\n    .dataframe tbody tr th {\n        vertical-align: top;\n    }\n\n    .dataframe thead th {\n        text-align: right;\n    }\n</style>\n<table border=\"1\" class=\"dataframe\">\n  <thead>\n    <tr style=\"text-align: right;\">\n      <th></th>\n      <th>user</th>\n      <th>item</th>\n      <th>rating</th>\n      <th>prediction</th>\n    </tr>\n  </thead>\n  <tbody>\n    <tr>\n      <th>0</th>\n      <td>109</td>\n      <td>132723</td>\n      <td>6.0</td>\n      <td>3.083333</td>\n    </tr>\n    <tr>\n      <th>1</th>\n      <td>110</td>\n      <td>132723</td>\n      <td>5.0</td>\n      <td>3.416667</td>\n    </tr>\n    <tr>\n      <th>2</th>\n      <td>112</td>\n      <td>132583</td>\n      <td>6.0</td>\n      <td>3.527778</td>\n    </tr>\n  </tbody>\n</table>\n</div>"
     },
     "execution_count": 47,
     "metadata": {},
     "output_type": "execute_result"
    }
   ],
   "source": [
    "predss = predss.reset_index(drop=True)\n",
    "predss"
   ]
  },
  {
   "cell_type": "code",
   "execution_count": 48,
   "metadata": {},
   "outputs": [
    {
     "data": {
      "text/plain": "2.3240740740740744"
     },
     "execution_count": 48,
     "metadata": {},
     "output_type": "execute_result"
    }
   ],
   "source": [
    "user_metric(predss, metric=rmse)\n"
   ]
  },
  {
   "cell_type": "code",
   "execution_count": 49,
   "metadata": {},
   "outputs": [
    {
     "data": {
      "text/plain": "{135025: 'This restaurant was recommended because everybody is likely to like it, whereas this restaurant is predicted to be most liked by the group as a whole',\n 135030: 'This restaurant was recommended because everybody is likely to like it, whereas this restaurant is predicted to be most liked by the group as a whole',\n 135075: 'This restaurant was recommended because everybody is likely to like it, whereas this restaurant is predicted to be most liked by the group as a whole'}"
     },
     "execution_count": 49,
     "metadata": {},
     "output_type": "execute_result"
    }
   ],
   "source": [
    "\n",
    "group_explanation(t2, group_size, thres)\n"
   ]
  },
  {
   "cell_type": "code",
   "execution_count": 50,
   "metadata": {},
   "outputs": [
    {
     "data": {
      "text/plain": "      U1108      mean  index  placeID   latitude   longitude  \\\n0  3.083333  3.083333     62   132723  22.148934 -101.019845   \n\n                name   alcohol smoking_area dress_code accessibility   price  \\\n0  Gordas de morales  Full_Bar      section   informal    completely  medium   \n\n  Rambience  \n0  familiar  ",
      "text/html": "<div>\n<style scoped>\n    .dataframe tbody tr th:only-of-type {\n        vertical-align: middle;\n    }\n\n    .dataframe tbody tr th {\n        vertical-align: top;\n    }\n\n    .dataframe thead th {\n        text-align: right;\n    }\n</style>\n<table border=\"1\" class=\"dataframe\">\n  <thead>\n    <tr style=\"text-align: right;\">\n      <th></th>\n      <th>U1108</th>\n      <th>mean</th>\n      <th>index</th>\n      <th>placeID</th>\n      <th>latitude</th>\n      <th>longitude</th>\n      <th>name</th>\n      <th>alcohol</th>\n      <th>smoking_area</th>\n      <th>dress_code</th>\n      <th>accessibility</th>\n      <th>price</th>\n      <th>Rambience</th>\n    </tr>\n  </thead>\n  <tbody>\n    <tr>\n      <th>0</th>\n      <td>3.083333</td>\n      <td>3.083333</td>\n      <td>62</td>\n      <td>132723</td>\n      <td>22.148934</td>\n      <td>-101.019845</td>\n      <td>Gordas de morales</td>\n      <td>Full_Bar</td>\n      <td>section</td>\n      <td>informal</td>\n      <td>completely</td>\n      <td>medium</td>\n      <td>familiar</td>\n    </tr>\n  </tbody>\n</table>\n</div>"
     },
     "execution_count": 50,
     "metadata": {},
     "output_type": "execute_result"
    }
   ],
   "source": [
    "raaat\n"
   ]
  },
  {
   "cell_type": "code",
   "execution_count": 51,
   "metadata": {},
   "outputs": [
    {
     "ename": "SyntaxError",
     "evalue": "invalid syntax (<ipython-input-51-84883ee286ec>, line 1)",
     "output_type": "error",
     "traceback": [
      "\u001B[1;36m  File \u001B[1;32m\"<ipython-input-51-84883ee286ec>\"\u001B[1;36m, line \u001B[1;32m1\u001B[0m\n\u001B[1;33m    is None\u001B[0m\n\u001B[1;37m    ^\u001B[0m\n\u001B[1;31mSyntaxError\u001B[0m\u001B[1;31m:\u001B[0m invalid syntax\n"
     ]
    }
   ],
   "source": [
    "is None"
   ]
  },
  {
   "cell_type": "code",
   "execution_count": null,
   "metadata": {},
   "outputs": [],
   "source": [
    "p=None"
   ]
  },
  {
   "cell_type": "code",
   "execution_count": null,
   "metadata": {},
   "outputs": [],
   "source": [
    "p is None"
   ]
  },
  {
   "cell_type": "code",
   "execution_count": null,
   "metadata": {},
   "outputs": [],
   "source": []
  }
 ],
 "metadata": {
  "interpreter": {
   "hash": "0bdd25ee6a1bc7a697d7dda5c076b17065311e4878d3460d9cc6d2e030e181c4"
  },
  "kernelspec": {
   "display_name": "PyCharm (RecSys_weRecommendaGrade10)",
   "language": "python",
   "name": "python3"
  },
  "language_info": {
   "codemirror_mode": {
    "name": "ipython",
    "version": 3
   },
   "file_extension": ".py",
   "mimetype": "text/x-python",
   "name": "python",
   "nbconvert_exporter": "python",
   "pygments_lexer": "ipython3",
   "version": "3.8.5"
  },
  "orig_nbformat": 4
 },
 "nbformat": 4,
 "nbformat_minor": 2
}