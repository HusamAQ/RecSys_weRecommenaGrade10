{
 "cells": [
  {
   "cell_type": "code",
   "execution_count": 1,
   "metadata": {
    "collapsed": true
   },
   "outputs": [],
   "source": [
    "from we_recommend_a_grade_10.methods import *"
   ]
  },
  {
   "cell_type": "code",
   "execution_count": 2,
   "outputs": [],
   "source": [
    "#gamma [0-1] min_nn [2-max_nn] max_nn [min_nn-..]\n",
    "#n [2-..], metric='euclidean', raw_features [T, F]\n",
    "vars = ['gamma', 'min_nn', 'max_nn', 'n', 'raw_features']\n",
    "counts = [1, 1, 1, 1, 1]\n",
    "mins = [ 1, 3, 15, 24, False ]\n",
    "maxs = [ 1, 3, 15, 24, False  ]\n",
    "types = [float, int, int, int, bool]\n",
    "def cancel_if(vals):\n",
    "    return vals[1] >= vals[2]\n",
    "values = [\n",
    "    pd.Series(np.linspace(mins[i], maxs[i], counts[i])).astype(types[i]).values\n",
    "    for i in range(len(vars))\n",
    "]"
   ],
   "metadata": {
    "collapsed": false,
    "pycharm": {
     "name": "#%%\n"
    }
   }
  },
  {
   "cell_type": "code",
   "execution_count": 3,
   "outputs": [],
   "source": [
    "suites = []\n",
    "for v0 in values[0]:\n",
    "    for v1 in values[1]:\n",
    "        for v2 in values[2]:\n",
    "            for v3 in values[3]:\n",
    "                for v4 in values[4]:\n",
    "                    vals = [v0, v1, v2, v3, v4]\n",
    "                    if cancel_if(vals):\n",
    "                        continue\n",
    "                    suites.append({vars[i] : vals[i] for i in range(len(vars))})"
   ],
   "metadata": {
    "collapsed": false,
    "pycharm": {
     "name": "#%%\n"
    }
   }
  },
  {
   "cell_type": "code",
   "execution_count": 4,
   "outputs": [
    {
     "name": "stdout",
     "output_type": "stream",
     "text": [
      "starting suite 1/1...\n",
      "training complete\n",
      "evaluation complete\n"
     ]
    }
   ],
   "source": [
    "tr, ts = get_train_test_split()\n",
    "models = []\n",
    "metrics = []\n",
    "number = 1\n",
    "for suite in suites:\n",
    "    print('starting suite %d/%d...'%(number, len(suites)))\n",
    "    model = train_CFVB(tr, **suite)\n",
    "    print('training complete')\n",
    "    models.append(model)\n",
    "    preds = run_CFVB(ts, model)\n",
    "    metrics.append(single_metric(preds.dropna()))\n",
    "    print('evaluation complete')\n",
    "    number += 1"
   ],
   "metadata": {
    "collapsed": false,
    "pycharm": {
     "name": "#%%\n"
    }
   }
  },
  {
   "cell_type": "code",
   "execution_count": 5,
   "outputs": [
    {
     "data": {
      "text/plain": "[1.9432223987830333]"
     },
     "execution_count": 5,
     "metadata": {},
     "output_type": "execute_result"
    }
   ],
   "source": [
    "metrics"
   ],
   "metadata": {
    "collapsed": false,
    "pycharm": {
     "name": "#%%\n"
    }
   }
  },
  {
   "cell_type": "code",
   "execution_count": 6,
   "outputs": [
    {
     "data": {
      "text/plain": "0    1.943222\nName: MRSE, dtype: float64"
     },
     "execution_count": 6,
     "metadata": {},
     "output_type": "execute_result"
    }
   ],
   "source": [
    "sorted = pd.Series(metrics, name='MRSE').sort_values()\n",
    "sorted"
   ],
   "metadata": {
    "collapsed": false,
    "pycharm": {
     "name": "#%%\n"
    }
   }
  },
  {
   "cell_type": "code",
   "execution_count": 7,
   "outputs": [
    {
     "data": {
      "text/plain": "0    {'gamma': 1.0, 'min_nn': 3, 'max_nn': 15, 'n':...\ndtype: object"
     },
     "execution_count": 7,
     "metadata": {},
     "output_type": "execute_result"
    }
   ],
   "source": [
    "pd.Series(suites).loc[sorted.index]"
   ],
   "metadata": {
    "collapsed": false,
    "pycharm": {
     "name": "#%%\n"
    }
   }
  },
  {
   "cell_type": "code",
   "execution_count": 8,
   "outputs": [
    {
     "data": {
      "text/plain": "       MRSE  gamma  min_nn  max_nn   n  raw_features\n0  1.943222    1.0       3      15  24         False",
      "text/html": "<div>\n<style scoped>\n    .dataframe tbody tr th:only-of-type {\n        vertical-align: middle;\n    }\n\n    .dataframe tbody tr th {\n        vertical-align: top;\n    }\n\n    .dataframe thead th {\n        text-align: right;\n    }\n</style>\n<table border=\"1\" class=\"dataframe\">\n  <thead>\n    <tr style=\"text-align: right;\">\n      <th></th>\n      <th>MRSE</th>\n      <th>gamma</th>\n      <th>min_nn</th>\n      <th>max_nn</th>\n      <th>n</th>\n      <th>raw_features</th>\n    </tr>\n  </thead>\n  <tbody>\n    <tr>\n      <th>0</th>\n      <td>1.943222</td>\n      <td>1.0</td>\n      <td>3</td>\n      <td>15</td>\n      <td>24</td>\n      <td>False</td>\n    </tr>\n  </tbody>\n</table>\n</div>"
     },
     "execution_count": 8,
     "metadata": {},
     "output_type": "execute_result"
    }
   ],
   "source": [
    "df = pd.DataFrame(sorted)\n",
    "df['suite'] = pd.Series(suites).loc[sorted.index]\n",
    "for var in vars:\n",
    "    df[var] = df.apply(lambda x : x['suite'][var], axis=1)\n",
    "df = df.drop(columns=['suite'])\n",
    "df.reindex()"
   ],
   "metadata": {
    "collapsed": false,
    "pycharm": {
     "name": "#%%\n"
    }
   }
  },
  {
   "cell_type": "code",
   "execution_count": 9,
   "outputs": [],
   "source": [
    "model = train_CFVB(tr, **suites[0])\n",
    "preds = run_CFVB(ts, model)"
   ],
   "metadata": {
    "collapsed": false,
    "pycharm": {
     "name": "#%%\n"
    }
   }
  },
  {
   "cell_type": "code",
   "execution_count": 10,
   "outputs": [],
   "source": [
    "#explanations_CF(ts, model[0])"
   ],
   "metadata": {
    "collapsed": false,
    "pycharm": {
     "name": "#%%\n"
    }
   }
  },
  {
   "cell_type": "code",
   "execution_count": 11,
   "outputs": [],
   "source": [
    "#single_metric(preds)"
   ],
   "metadata": {
    "collapsed": false,
    "pycharm": {
     "name": "#%%\n"
    }
   }
  },
  {
   "cell_type": "code",
   "execution_count": 12,
   "outputs": [
    {
     "ename": "AttributeError",
     "evalue": "'int' object has no attribute 'predict_for_user'",
     "output_type": "error",
     "traceback": [
      "\u001B[1;31m---------------------------------------------------------------------------\u001B[0m",
      "\u001B[1;31mAttributeError\u001B[0m                            Traceback (most recent call last)",
      "\u001B[1;32m<ipython-input-12-cab2c9180e9d>\u001B[0m in \u001B[0;36m<module>\u001B[1;34m\u001B[0m\n\u001B[1;32m----> 1\u001B[1;33m \u001B[0mrecommended\u001B[0m \u001B[1;33m=\u001B[0m \u001B[0mpd\u001B[0m\u001B[1;33m.\u001B[0m\u001B[0mDataFrame\u001B[0m\u001B[1;33m(\u001B[0m\u001B[0mmodel\u001B[0m\u001B[1;33m[\u001B[0m\u001B[1;36m0\u001B[0m\u001B[1;33m]\u001B[0m\u001B[1;33m.\u001B[0m\u001B[0mpredict_for_user\u001B[0m\u001B[1;33m(\u001B[0m\u001B[1;34m'U1001'\u001B[0m\u001B[1;33m,\u001B[0m \u001B[0mres_Profile\u001B[0m\u001B[1;33m.\u001B[0m\u001B[0mplaceID\u001B[0m\u001B[1;33m)\u001B[0m\u001B[1;33m)\u001B[0m\u001B[1;33m.\u001B[0m\u001B[0mdropna\u001B[0m\u001B[1;33m(\u001B[0m\u001B[1;33m)\u001B[0m\u001B[1;33m\u001B[0m\u001B[1;33m\u001B[0m\u001B[0m\n\u001B[0m\u001B[0;32m      2\u001B[0m \u001B[1;33m\u001B[0m\u001B[0m\n",
      "\u001B[1;31mAttributeError\u001B[0m: 'int' object has no attribute 'predict_for_user'"
     ]
    }
   ],
   "source": [
    "#recommended = pd.DataFrame(model[0].predict_for_user('U1001', res_Profile.placeID)).dropna()"
   ],
   "metadata": {
    "collapsed": false,
    "pycharm": {
     "name": "#%%\n"
    }
   }
  },
  {
   "cell_type": "code",
   "execution_count": 13,
   "outputs": [
    {
     "data": {
      "text/plain": "       user    item  rating  prediction  \\\n215   U1001  132830     3.0    2.958333   \n216   U1001  132825     5.0    2.958333   \n689   U1001  135040     3.0    3.500000   \n1064  U1002  132825     4.0    2.791667   \n1066  U1002  132862     6.0    3.416667   \n...     ...     ...     ...         ...   \n882   U1137  135085     5.0    3.916667   \n886   U1137  135058     4.0    4.375000   \n892   U1137  135042     6.0    4.375000   \n894   U1137  135049     6.0    4.375000   \n895   U1137  135075     6.0    4.375000   \n\n                                            explanation  \n215   You were recommended Tortas Locas Hipocampo be...  \n216   You were recommended Tortas Locas Hipocampo be...  \n689   You were recommended Tortas Locas Hipocampo be...  \n1064  You were recommended El Rinc�n de San Francisc...  \n1066  You were recommended El Rinc�n de San Francisc...  \n...                                                 ...  \n882   You were recommended La Estrella de Dimas beca...  \n886   You were recommended La Estrella de Dimas beca...  \n892   You were recommended La Estrella de Dimas beca...  \n894   You were recommended La Estrella de Dimas beca...  \n895   You were recommended La Estrella de Dimas beca...  \n\n[278 rows x 5 columns]",
      "text/html": "<div>\n<style scoped>\n    .dataframe tbody tr th:only-of-type {\n        vertical-align: middle;\n    }\n\n    .dataframe tbody tr th {\n        vertical-align: top;\n    }\n\n    .dataframe thead th {\n        text-align: right;\n    }\n</style>\n<table border=\"1\" class=\"dataframe\">\n  <thead>\n    <tr style=\"text-align: right;\">\n      <th></th>\n      <th>user</th>\n      <th>item</th>\n      <th>rating</th>\n      <th>prediction</th>\n      <th>explanation</th>\n    </tr>\n  </thead>\n  <tbody>\n    <tr>\n      <th>215</th>\n      <td>U1001</td>\n      <td>132830</td>\n      <td>3.0</td>\n      <td>2.958333</td>\n      <td>You were recommended Tortas Locas Hipocampo be...</td>\n    </tr>\n    <tr>\n      <th>216</th>\n      <td>U1001</td>\n      <td>132825</td>\n      <td>5.0</td>\n      <td>2.958333</td>\n      <td>You were recommended Tortas Locas Hipocampo be...</td>\n    </tr>\n    <tr>\n      <th>689</th>\n      <td>U1001</td>\n      <td>135040</td>\n      <td>3.0</td>\n      <td>3.500000</td>\n      <td>You were recommended Tortas Locas Hipocampo be...</td>\n    </tr>\n    <tr>\n      <th>1064</th>\n      <td>U1002</td>\n      <td>132825</td>\n      <td>4.0</td>\n      <td>2.791667</td>\n      <td>You were recommended El Rinc�n de San Francisc...</td>\n    </tr>\n    <tr>\n      <th>1066</th>\n      <td>U1002</td>\n      <td>132862</td>\n      <td>6.0</td>\n      <td>3.416667</td>\n      <td>You were recommended El Rinc�n de San Francisc...</td>\n    </tr>\n    <tr>\n      <th>...</th>\n      <td>...</td>\n      <td>...</td>\n      <td>...</td>\n      <td>...</td>\n      <td>...</td>\n    </tr>\n    <tr>\n      <th>882</th>\n      <td>U1137</td>\n      <td>135085</td>\n      <td>5.0</td>\n      <td>3.916667</td>\n      <td>You were recommended La Estrella de Dimas beca...</td>\n    </tr>\n    <tr>\n      <th>886</th>\n      <td>U1137</td>\n      <td>135058</td>\n      <td>4.0</td>\n      <td>4.375000</td>\n      <td>You were recommended La Estrella de Dimas beca...</td>\n    </tr>\n    <tr>\n      <th>892</th>\n      <td>U1137</td>\n      <td>135042</td>\n      <td>6.0</td>\n      <td>4.375000</td>\n      <td>You were recommended La Estrella de Dimas beca...</td>\n    </tr>\n    <tr>\n      <th>894</th>\n      <td>U1137</td>\n      <td>135049</td>\n      <td>6.0</td>\n      <td>4.375000</td>\n      <td>You were recommended La Estrella de Dimas beca...</td>\n    </tr>\n    <tr>\n      <th>895</th>\n      <td>U1137</td>\n      <td>135075</td>\n      <td>6.0</td>\n      <td>4.375000</td>\n      <td>You were recommended La Estrella de Dimas beca...</td>\n    </tr>\n  </tbody>\n</table>\n<p>278 rows × 5 columns</p>\n</div>"
     },
     "execution_count": 13,
     "metadata": {},
     "output_type": "execute_result"
    }
   ],
   "source": [
    "preds['explanation'] = preds.apply(lambda x : explanations_VB(x.user, model[1], model[2]), axis=1)\n",
    "preds.dropna()"
   ],
   "metadata": {
    "collapsed": false,
    "pycharm": {
     "name": "#%%\n"
    }
   }
  },
  {
   "cell_type": "code",
   "execution_count": 15,
   "outputs": [],
   "source": [
    "preds.to_excel('explanations_VB.xls')"
   ],
   "metadata": {
    "collapsed": false,
    "pycharm": {
     "name": "#%%\n"
    }
   }
  },
  {
   "cell_type": "code",
   "execution_count": null,
   "outputs": [],
   "source": [
    "model[2]"
   ],
   "metadata": {
    "collapsed": false,
    "pycharm": {
     "name": "#%%\n"
    }
   }
  },
  {
   "cell_type": "code",
   "execution_count": null,
   "outputs": [],
   "source": [
    "from we_recommend_a_grade_10.vectorization import vector_cols\n",
    "model[1].predict(model[2][vector_cols])"
   ],
   "metadata": {
    "collapsed": false,
    "pycharm": {
     "name": "#%%\n"
    }
   }
  },
  {
   "cell_type": "code",
   "execution_count": null,
   "outputs": [],
   "source": [
    "vectors = model[2][model[2].user == 'U1001']\n",
    "proba = model[1].predict_proba(vectors[vector_cols])\n",
    "values = proba[:, 0] * 0\n",
    "for i in model[1].classes_:\n",
    "    values += proba[:, i] * i\n",
    "vectors['prediction'] = values\n",
    "item = vectors.sort_values('prediction').iloc[-1]"
   ],
   "metadata": {
    "collapsed": false,
    "pycharm": {
     "name": "#%%\n"
    }
   }
  },
  {
   "cell_type": "code",
   "execution_count": null,
   "outputs": [],
   "source": [
    "list(item[vector_cols].sort_values()[-2:].index)"
   ],
   "metadata": {
    "collapsed": false,
    "pycharm": {
     "name": "#%%\n"
    }
   }
  },
  {
   "cell_type": "code",
   "execution_count": null,
   "outputs": [],
   "source": [
    "res_res = res_Profile.copy()\n",
    "res_res.index = res_Profile.placeID\n",
    "res_res.loc[item['item']]['name']"
   ],
   "metadata": {
    "collapsed": false,
    "pycharm": {
     "name": "#%%\n"
    }
   }
  },
  {
   "cell_type": "code",
   "execution_count": null,
   "outputs": [],
   "source": [],
   "metadata": {
    "collapsed": false,
    "pycharm": {
     "name": "#%%\n"
    }
   }
  }
 ],
 "metadata": {
  "kernelspec": {
   "display_name": "Python 3",
   "language": "python",
   "name": "python3"
  },
  "language_info": {
   "codemirror_mode": {
    "name": "ipython",
    "version": 2
   },
   "file_extension": ".py",
   "mimetype": "text/x-python",
   "name": "python",
   "nbconvert_exporter": "python",
   "pygments_lexer": "ipython2",
   "version": "2.7.6"
  }
 },
 "nbformat": 4,
 "nbformat_minor": 0
}