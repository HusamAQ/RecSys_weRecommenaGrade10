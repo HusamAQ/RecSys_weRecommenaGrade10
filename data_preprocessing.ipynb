{
 "cells": [
  {
   "cell_type": "code",
   "execution_count": 5,
   "metadata": {},
   "outputs": [],
   "source": [
    "import pandas as pd\n",
    "\n",
    "#FILE PATHS\n",
    "KAGGLE_DATASET_FOLDER='./kaggle_data'\n",
    "\n",
    "#Restaurants\n",
    "ACCEPTS=KAGGLE_DATASET_FOLDER+'/chefmozaccepts.csv'\n",
    "CUISINE=KAGGLE_DATASET_FOLDER+'/chefmozcuisine.csv'\n",
    "HOURS=KAGGLE_DATASET_FOLDER+'/chefmozhours4.csv'\n",
    "PARKING=KAGGLE_DATASET_FOLDER+'/chefmozparking.csv'\n",
    "PLACES=KAGGLE_DATASET_FOLDER+'/geoplaces2.csv'\n",
    "\n",
    "#Consumers\n",
    "USER_CUISINE=KAGGLE_DATASET_FOLDER+'/usercuisine.csv'\n",
    "USER_PAYMENT=KAGGLE_DATASET_FOLDER+'/userpayment.csv'\n",
    "USER_PROFILE=KAGGLE_DATASET_FOLDER+'/userprofile.csv'\n",
    "\n",
    "#User-Item-Rating\n",
    "RATINGS=KAGGLE_DATASET_FOLDER+'/rating_final.csv'\n"
   ]
  },
  {
   "cell_type": "code",
   "execution_count": 7,
   "metadata": {},
   "outputs": [],
   "source": [
    "#IMPORTING DATASET\n",
    "\n",
    "#Restaurants\n",
    "res_accepts_df=pd.read_csv(ACCEPTS)\n",
    "res_cuisine_df=pd.read_csv(CUISINE)\n",
    "res_hours_df=pd.read_csv(HOURS)\n",
    "res_parking_df=pd.read_csv(PARKING)\n",
    "restaurants_df=pd.read_csv(PLACES)\n",
    "\n",
    "#Consumers\n",
    "user_cuisine_df=pd.read_csv(USER_CUISINE)\n",
    "user_payment_df=pd.read_csv(USER_PAYMENT)\n",
    "user_profile_df=pd.read_csv(USER_PROFILE)\n",
    "\n",
    "#User-Item-Rating\n",
    "ratings_df=pd.read_csv(RATINGS) \n"
   ]
  },
  {
   "cell_type": "code",
   "execution_count": null,
   "metadata": {},
   "outputs": [],
   "source": []
  }
 ],
 "metadata": {
  "interpreter": {
   "hash": "28ac49e0fdf57c5ac038f51d7a7e4fd4bcbc62a7f6b7d780a1fe8e0f60dea977"
  },
  "kernelspec": {
   "display_name": "Python 3.8.10 64-bit ('base': conda)",
   "language": "python",
   "name": "python3"
  },
  "language_info": {
   "codemirror_mode": {
    "name": "ipython",
    "version": 3
   },
   "file_extension": ".py",
   "mimetype": "text/x-python",
   "name": "python",
   "nbconvert_exporter": "python",
   "pygments_lexer": "ipython3",
   "version": "3.8.5"
  },
  "orig_nbformat": 4
 },
 "nbformat": 4,
 "nbformat_minor": 2
}
