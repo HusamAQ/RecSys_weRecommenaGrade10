{
 "cells": [
  {
   "cell_type": "markdown",
   "source": [
    "# This notebook handels data import and preprocessing\n",
    "\n",
    "## Importing data"
   ],
   "metadata": {
    "collapsed": false
   }
  },
  {
   "cell_type": "code",
   "execution_count": 9,
   "outputs": [
    {
     "data": {
      "text/plain": "     userID  placeID  rating  food_rating  service_rating\n0     U1077   135085       2            2               2\n1     U1077   135038       2            2               1\n2     U1077   132825       2            2               2\n3     U1077   135060       1            2               2\n4     U1068   135104       1            1               2\n...     ...      ...     ...          ...             ...\n1156  U1043   132630       1            1               1\n1157  U1011   132715       1            1               0\n1158  U1068   132733       1            1               0\n1159  U1068   132594       1            1               1\n1160  U1068   132660       0            0               0\n\n[1161 rows x 5 columns]",
      "text/html": "<div>\n<style scoped>\n    .dataframe tbody tr th:only-of-type {\n        vertical-align: middle;\n    }\n\n    .dataframe tbody tr th {\n        vertical-align: top;\n    }\n\n    .dataframe thead th {\n        text-align: right;\n    }\n</style>\n<table border=\"1\" class=\"dataframe\">\n  <thead>\n    <tr style=\"text-align: right;\">\n      <th></th>\n      <th>userID</th>\n      <th>placeID</th>\n      <th>rating</th>\n      <th>food_rating</th>\n      <th>service_rating</th>\n    </tr>\n  </thead>\n  <tbody>\n    <tr>\n      <th>0</th>\n      <td>U1077</td>\n      <td>135085</td>\n      <td>2</td>\n      <td>2</td>\n      <td>2</td>\n    </tr>\n    <tr>\n      <th>1</th>\n      <td>U1077</td>\n      <td>135038</td>\n      <td>2</td>\n      <td>2</td>\n      <td>1</td>\n    </tr>\n    <tr>\n      <th>2</th>\n      <td>U1077</td>\n      <td>132825</td>\n      <td>2</td>\n      <td>2</td>\n      <td>2</td>\n    </tr>\n    <tr>\n      <th>3</th>\n      <td>U1077</td>\n      <td>135060</td>\n      <td>1</td>\n      <td>2</td>\n      <td>2</td>\n    </tr>\n    <tr>\n      <th>4</th>\n      <td>U1068</td>\n      <td>135104</td>\n      <td>1</td>\n      <td>1</td>\n      <td>2</td>\n    </tr>\n    <tr>\n      <th>...</th>\n      <td>...</td>\n      <td>...</td>\n      <td>...</td>\n      <td>...</td>\n      <td>...</td>\n    </tr>\n    <tr>\n      <th>1156</th>\n      <td>U1043</td>\n      <td>132630</td>\n      <td>1</td>\n      <td>1</td>\n      <td>1</td>\n    </tr>\n    <tr>\n      <th>1157</th>\n      <td>U1011</td>\n      <td>132715</td>\n      <td>1</td>\n      <td>1</td>\n      <td>0</td>\n    </tr>\n    <tr>\n      <th>1158</th>\n      <td>U1068</td>\n      <td>132733</td>\n      <td>1</td>\n      <td>1</td>\n      <td>0</td>\n    </tr>\n    <tr>\n      <th>1159</th>\n      <td>U1068</td>\n      <td>132594</td>\n      <td>1</td>\n      <td>1</td>\n      <td>1</td>\n    </tr>\n    <tr>\n      <th>1160</th>\n      <td>U1068</td>\n      <td>132660</td>\n      <td>0</td>\n      <td>0</td>\n      <td>0</td>\n    </tr>\n  </tbody>\n</table>\n<p>1161 rows × 5 columns</p>\n</div>"
     },
     "metadata": {},
     "output_type": "display_data"
    }
   ],
   "source": [
    "from typing import List\n",
    "\n",
    "from IPython.core.display import display\n",
    "from we_recommend_a_grade_10.data import *\n",
    "\n",
    "display(Ratings)"
   ],
   "metadata": {
    "collapsed": false,
    "pycharm": {
     "name": "#%%\n"
    }
   }
  },
  {
   "cell_type": "markdown",
   "source": [
    "## Preprocessing Data"
   ],
   "metadata": {
    "collapsed": false
   }
  },
  {
   "cell_type": "code",
   "execution_count": 4,
   "outputs": [
    {
     "data": {
      "text/plain": "     index userID   latitude   longitude smoker     drink_level  \\\n0        0  U1001  22.139997 -100.978803  false      abstemious   \n1        1  U1002  22.150087 -100.983325  false      abstemious   \n2        2  U1003  22.119847 -100.946527  false  social drinker   \n3        3  U1004  18.867000  -99.183000  false      abstemious   \n4        4  U1005  22.183477 -100.959891  false      abstemious   \n..     ...    ...        ...         ...    ...             ...   \n117    133  U1134  22.149654 -100.998610  false  casual drinker   \n118    134  U1135  22.170396 -100.949936  false  casual drinker   \n119    135  U1136  22.149607 -100.997235   true  social drinker   \n120    136  U1137  22.144803 -100.944623  false  social drinker   \n121    137  U1138  22.152884 -100.939663  false  social drinker   \n\n    dress_preference marital_status        hijos  birth_year      activity  \\\n0           informal         single  independent        1989       student   \n1           informal         single  independent        1990       student   \n2             formal         single  independent        1989       student   \n3           informal         single  independent        1940  professional   \n4      no preference         single  independent        1992       student   \n..               ...            ...          ...         ...           ...   \n117    no preference         single  independent        1991       student   \n118         informal         single         kids        1988       student   \n119    no preference         single  independent        1990       student   \n120           formal         single  independent        1989       student   \n121           formal         single  independent        1991       student   \n\n     budget  \n0    medium  \n1       low  \n2       low  \n3    medium  \n4    medium  \n..      ...  \n117  medium  \n118     low  \n119     low  \n120     low  \n121  medium  \n\n[122 rows x 12 columns]",
      "text/html": "<div>\n<style scoped>\n    .dataframe tbody tr th:only-of-type {\n        vertical-align: middle;\n    }\n\n    .dataframe tbody tr th {\n        vertical-align: top;\n    }\n\n    .dataframe thead th {\n        text-align: right;\n    }\n</style>\n<table border=\"1\" class=\"dataframe\">\n  <thead>\n    <tr style=\"text-align: right;\">\n      <th></th>\n      <th>index</th>\n      <th>userID</th>\n      <th>latitude</th>\n      <th>longitude</th>\n      <th>smoker</th>\n      <th>drink_level</th>\n      <th>dress_preference</th>\n      <th>marital_status</th>\n      <th>hijos</th>\n      <th>birth_year</th>\n      <th>activity</th>\n      <th>budget</th>\n    </tr>\n  </thead>\n  <tbody>\n    <tr>\n      <th>0</th>\n      <td>0</td>\n      <td>U1001</td>\n      <td>22.139997</td>\n      <td>-100.978803</td>\n      <td>false</td>\n      <td>abstemious</td>\n      <td>informal</td>\n      <td>single</td>\n      <td>independent</td>\n      <td>1989</td>\n      <td>student</td>\n      <td>medium</td>\n    </tr>\n    <tr>\n      <th>1</th>\n      <td>1</td>\n      <td>U1002</td>\n      <td>22.150087</td>\n      <td>-100.983325</td>\n      <td>false</td>\n      <td>abstemious</td>\n      <td>informal</td>\n      <td>single</td>\n      <td>independent</td>\n      <td>1990</td>\n      <td>student</td>\n      <td>low</td>\n    </tr>\n    <tr>\n      <th>2</th>\n      <td>2</td>\n      <td>U1003</td>\n      <td>22.119847</td>\n      <td>-100.946527</td>\n      <td>false</td>\n      <td>social drinker</td>\n      <td>formal</td>\n      <td>single</td>\n      <td>independent</td>\n      <td>1989</td>\n      <td>student</td>\n      <td>low</td>\n    </tr>\n    <tr>\n      <th>3</th>\n      <td>3</td>\n      <td>U1004</td>\n      <td>18.867000</td>\n      <td>-99.183000</td>\n      <td>false</td>\n      <td>abstemious</td>\n      <td>informal</td>\n      <td>single</td>\n      <td>independent</td>\n      <td>1940</td>\n      <td>professional</td>\n      <td>medium</td>\n    </tr>\n    <tr>\n      <th>4</th>\n      <td>4</td>\n      <td>U1005</td>\n      <td>22.183477</td>\n      <td>-100.959891</td>\n      <td>false</td>\n      <td>abstemious</td>\n      <td>no preference</td>\n      <td>single</td>\n      <td>independent</td>\n      <td>1992</td>\n      <td>student</td>\n      <td>medium</td>\n    </tr>\n    <tr>\n      <th>...</th>\n      <td>...</td>\n      <td>...</td>\n      <td>...</td>\n      <td>...</td>\n      <td>...</td>\n      <td>...</td>\n      <td>...</td>\n      <td>...</td>\n      <td>...</td>\n      <td>...</td>\n      <td>...</td>\n      <td>...</td>\n    </tr>\n    <tr>\n      <th>117</th>\n      <td>133</td>\n      <td>U1134</td>\n      <td>22.149654</td>\n      <td>-100.998610</td>\n      <td>false</td>\n      <td>casual drinker</td>\n      <td>no preference</td>\n      <td>single</td>\n      <td>independent</td>\n      <td>1991</td>\n      <td>student</td>\n      <td>medium</td>\n    </tr>\n    <tr>\n      <th>118</th>\n      <td>134</td>\n      <td>U1135</td>\n      <td>22.170396</td>\n      <td>-100.949936</td>\n      <td>false</td>\n      <td>casual drinker</td>\n      <td>informal</td>\n      <td>single</td>\n      <td>kids</td>\n      <td>1988</td>\n      <td>student</td>\n      <td>low</td>\n    </tr>\n    <tr>\n      <th>119</th>\n      <td>135</td>\n      <td>U1136</td>\n      <td>22.149607</td>\n      <td>-100.997235</td>\n      <td>true</td>\n      <td>social drinker</td>\n      <td>no preference</td>\n      <td>single</td>\n      <td>independent</td>\n      <td>1990</td>\n      <td>student</td>\n      <td>low</td>\n    </tr>\n    <tr>\n      <th>120</th>\n      <td>136</td>\n      <td>U1137</td>\n      <td>22.144803</td>\n      <td>-100.944623</td>\n      <td>false</td>\n      <td>social drinker</td>\n      <td>formal</td>\n      <td>single</td>\n      <td>independent</td>\n      <td>1989</td>\n      <td>student</td>\n      <td>low</td>\n    </tr>\n    <tr>\n      <th>121</th>\n      <td>137</td>\n      <td>U1138</td>\n      <td>22.152884</td>\n      <td>-100.939663</td>\n      <td>false</td>\n      <td>social drinker</td>\n      <td>formal</td>\n      <td>single</td>\n      <td>independent</td>\n      <td>1991</td>\n      <td>student</td>\n      <td>medium</td>\n    </tr>\n  </tbody>\n</table>\n<p>122 rows × 12 columns</p>\n</div>"
     },
     "metadata": {},
     "output_type": "display_data"
    },
    {
     "data": {
      "text/plain": "     index  placeID   latitude   longitude                            name  \\\n0        0   134999  18.915421  -99.184871                 Kiku Cuernavaca   \n1        1   132825  22.147392 -100.983092                 puesto de tacos   \n2        2   135106  22.149709 -100.976093      El Rinc�n de San Francisco   \n3        3   132667  23.752697  -99.163359  little pizza Emilio Portes Gil   \n4        4   132613  23.752903  -99.165076                   carnitas_mata   \n..     ...      ...        ...         ...                             ...   \n125    125   132866  22.141220 -100.931311                         Chaires   \n126    126   135072  22.149192 -101.002936                      Sushi Itto   \n127    127   135109  18.921785  -99.235350                       Paniroles   \n128    128   135019  18.875011  -99.159422     Restaurant Bar Coty y Pablo   \n129    129   132877  22.135364 -100.934948                sirloin stockade   \n\n               alcohol   smoking_area dress_code   price  \n0    No_Alcohol_Served           none   informal  medium  \n1    No_Alcohol_Served           none   informal     low  \n2            Wine-Beer    only at bar   informal  medium  \n3    No_Alcohol_Served           none   informal     low  \n4    No_Alcohol_Served      permitted   informal  medium  \n..                 ...            ...        ...     ...  \n125  No_Alcohol_Served  not permitted   informal  medium  \n126  No_Alcohol_Served           none   informal  medium  \n127          Wine-Beer  not permitted   informal  medium  \n128  No_Alcohol_Served           none   informal     low  \n129  No_Alcohol_Served           none   informal     low  \n\n[130 rows x 9 columns]",
      "text/html": "<div>\n<style scoped>\n    .dataframe tbody tr th:only-of-type {\n        vertical-align: middle;\n    }\n\n    .dataframe tbody tr th {\n        vertical-align: top;\n    }\n\n    .dataframe thead th {\n        text-align: right;\n    }\n</style>\n<table border=\"1\" class=\"dataframe\">\n  <thead>\n    <tr style=\"text-align: right;\">\n      <th></th>\n      <th>index</th>\n      <th>placeID</th>\n      <th>latitude</th>\n      <th>longitude</th>\n      <th>name</th>\n      <th>alcohol</th>\n      <th>smoking_area</th>\n      <th>dress_code</th>\n      <th>price</th>\n    </tr>\n  </thead>\n  <tbody>\n    <tr>\n      <th>0</th>\n      <td>0</td>\n      <td>134999</td>\n      <td>18.915421</td>\n      <td>-99.184871</td>\n      <td>Kiku Cuernavaca</td>\n      <td>No_Alcohol_Served</td>\n      <td>none</td>\n      <td>informal</td>\n      <td>medium</td>\n    </tr>\n    <tr>\n      <th>1</th>\n      <td>1</td>\n      <td>132825</td>\n      <td>22.147392</td>\n      <td>-100.983092</td>\n      <td>puesto de tacos</td>\n      <td>No_Alcohol_Served</td>\n      <td>none</td>\n      <td>informal</td>\n      <td>low</td>\n    </tr>\n    <tr>\n      <th>2</th>\n      <td>2</td>\n      <td>135106</td>\n      <td>22.149709</td>\n      <td>-100.976093</td>\n      <td>El Rinc�n de San Francisco</td>\n      <td>Wine-Beer</td>\n      <td>only at bar</td>\n      <td>informal</td>\n      <td>medium</td>\n    </tr>\n    <tr>\n      <th>3</th>\n      <td>3</td>\n      <td>132667</td>\n      <td>23.752697</td>\n      <td>-99.163359</td>\n      <td>little pizza Emilio Portes Gil</td>\n      <td>No_Alcohol_Served</td>\n      <td>none</td>\n      <td>informal</td>\n      <td>low</td>\n    </tr>\n    <tr>\n      <th>4</th>\n      <td>4</td>\n      <td>132613</td>\n      <td>23.752903</td>\n      <td>-99.165076</td>\n      <td>carnitas_mata</td>\n      <td>No_Alcohol_Served</td>\n      <td>permitted</td>\n      <td>informal</td>\n      <td>medium</td>\n    </tr>\n    <tr>\n      <th>...</th>\n      <td>...</td>\n      <td>...</td>\n      <td>...</td>\n      <td>...</td>\n      <td>...</td>\n      <td>...</td>\n      <td>...</td>\n      <td>...</td>\n      <td>...</td>\n    </tr>\n    <tr>\n      <th>125</th>\n      <td>125</td>\n      <td>132866</td>\n      <td>22.141220</td>\n      <td>-100.931311</td>\n      <td>Chaires</td>\n      <td>No_Alcohol_Served</td>\n      <td>not permitted</td>\n      <td>informal</td>\n      <td>medium</td>\n    </tr>\n    <tr>\n      <th>126</th>\n      <td>126</td>\n      <td>135072</td>\n      <td>22.149192</td>\n      <td>-101.002936</td>\n      <td>Sushi Itto</td>\n      <td>No_Alcohol_Served</td>\n      <td>none</td>\n      <td>informal</td>\n      <td>medium</td>\n    </tr>\n    <tr>\n      <th>127</th>\n      <td>127</td>\n      <td>135109</td>\n      <td>18.921785</td>\n      <td>-99.235350</td>\n      <td>Paniroles</td>\n      <td>Wine-Beer</td>\n      <td>not permitted</td>\n      <td>informal</td>\n      <td>medium</td>\n    </tr>\n    <tr>\n      <th>128</th>\n      <td>128</td>\n      <td>135019</td>\n      <td>18.875011</td>\n      <td>-99.159422</td>\n      <td>Restaurant Bar Coty y Pablo</td>\n      <td>No_Alcohol_Served</td>\n      <td>none</td>\n      <td>informal</td>\n      <td>low</td>\n    </tr>\n    <tr>\n      <th>129</th>\n      <td>129</td>\n      <td>132877</td>\n      <td>22.135364</td>\n      <td>-100.934948</td>\n      <td>sirloin stockade</td>\n      <td>No_Alcohol_Served</td>\n      <td>none</td>\n      <td>informal</td>\n      <td>low</td>\n    </tr>\n  </tbody>\n</table>\n<p>130 rows × 9 columns</p>\n</div>"
     },
     "metadata": {},
     "output_type": "display_data"
    }
   ],
   "source": [
    "display(default_user_Profile)\n",
    "display(default_res_Profile)"
   ],
   "metadata": {
    "collapsed": false,
    "pycharm": {
     "name": "#%%\n"
    }
   }
  },
  {
   "cell_type": "markdown",
   "source": [
    "Lenskit expects a ratings dataframe with user item and rating columns"
   ],
   "metadata": {
    "collapsed": false
   }
  },
  {
   "cell_type": "code",
   "execution_count": 6,
   "outputs": [
    {
     "data": {
      "text/plain": "       user    item  rating\n0     U1077  135085       6\n1     U1077  135038       5\n2     U1077  132825       6\n3     U1077  135060       5\n4     U1068  135104       4\n...     ...     ...     ...\n1156  U1043  132630       3\n1157  U1011  132715       2\n1158  U1068  132733       2\n1159  U1068  132594       3\n1160  U1068  132660       0\n\n[1161 rows x 3 columns]",
      "text/html": "<div>\n<style scoped>\n    .dataframe tbody tr th:only-of-type {\n        vertical-align: middle;\n    }\n\n    .dataframe tbody tr th {\n        vertical-align: top;\n    }\n\n    .dataframe thead th {\n        text-align: right;\n    }\n</style>\n<table border=\"1\" class=\"dataframe\">\n  <thead>\n    <tr style=\"text-align: right;\">\n      <th></th>\n      <th>user</th>\n      <th>item</th>\n      <th>rating</th>\n    </tr>\n  </thead>\n  <tbody>\n    <tr>\n      <th>0</th>\n      <td>U1077</td>\n      <td>135085</td>\n      <td>6</td>\n    </tr>\n    <tr>\n      <th>1</th>\n      <td>U1077</td>\n      <td>135038</td>\n      <td>5</td>\n    </tr>\n    <tr>\n      <th>2</th>\n      <td>U1077</td>\n      <td>132825</td>\n      <td>6</td>\n    </tr>\n    <tr>\n      <th>3</th>\n      <td>U1077</td>\n      <td>135060</td>\n      <td>5</td>\n    </tr>\n    <tr>\n      <th>4</th>\n      <td>U1068</td>\n      <td>135104</td>\n      <td>4</td>\n    </tr>\n    <tr>\n      <th>...</th>\n      <td>...</td>\n      <td>...</td>\n      <td>...</td>\n    </tr>\n    <tr>\n      <th>1156</th>\n      <td>U1043</td>\n      <td>132630</td>\n      <td>3</td>\n    </tr>\n    <tr>\n      <th>1157</th>\n      <td>U1011</td>\n      <td>132715</td>\n      <td>2</td>\n    </tr>\n    <tr>\n      <th>1158</th>\n      <td>U1068</td>\n      <td>132733</td>\n      <td>2</td>\n    </tr>\n    <tr>\n      <th>1159</th>\n      <td>U1068</td>\n      <td>132594</td>\n      <td>3</td>\n    </tr>\n    <tr>\n      <th>1160</th>\n      <td>U1068</td>\n      <td>132660</td>\n      <td>0</td>\n    </tr>\n  </tbody>\n</table>\n<p>1161 rows × 3 columns</p>\n</div>"
     },
     "metadata": {},
     "output_type": "display_data"
    }
   ],
   "source": [
    "display(simple_Ratings)"
   ],
   "metadata": {
    "collapsed": false,
    "pycharm": {
     "name": "#%%\n"
    }
   }
  },
  {
   "cell_type": "markdown",
   "source": [
    "## Recommender System"
   ],
   "metadata": {
    "collapsed": false
   }
  },
  {
   "cell_type": "code",
   "execution_count": 7,
   "outputs": [
    {
     "name": "stderr",
     "output_type": "stream",
     "text": [
      "could not load LIBBLAS: Could not find module 'libblas' (or one of its dependencies). Try using the full path with constructor syntax.\n",
      "Numba is using threading layer omp - consider TBB\n",
      "found 1 potential runtime problems - see https://boi.st/lkpy-perf\n"
     ]
    },
    {
     "data": {
      "text/plain": "     item     score  index  placeID   latitude   longitude  \\\n0  135108  4.545594     56   135108  22.136253 -100.933585   \n1  132723  4.543238     62   132723  22.148934 -101.019845   \n2  135081  4.429625     61   135081  22.164842 -100.960493   \n3  135050  4.064405     33   135050  22.174887 -100.970825   \n4  135026  3.918991     69   135026  22.148665 -101.001273   \n5  135066  3.911887     52   135066  22.168350 -100.972466   \n6  135030  3.754146     35   135030  22.147880 -100.989472   \n7  135075  3.586431    108   135075  22.139573 -100.991564   \n8  135059  3.572333     47   135059  22.145108 -100.989547   \n9  135027  2.978654     97   135027  22.147145 -100.974494   \n\n                                   name            alcohol smoking_area  \\\n0                            Potzocalli  No_Alcohol_Served         none   \n1                     Gordas de morales           Full_Bar      section   \n2                               El Club  No_Alcohol_Served         none   \n3       Restaurante la Estrella de Dima          Wine-Beer         none   \n4                            la Cantina           Full_Bar         none   \n5                    Restaurante Guerra          Wine-Beer      section   \n6              Preambulo Wifi Zone Cafe  No_Alcohol_Served         none   \n7                  Mariscos El Pescador  No_Alcohol_Served         none   \n8  Restaurant Bar Hacienda los Martinez          Wine-Beer      section   \n9                  Restaurant Orizatlan          Wine-Beer         none   \n\n  dress_code   price  \n0   informal     low  \n1   informal  medium  \n2   informal  medium  \n3   informal    high  \n4   informal    high  \n5   informal    high  \n6   informal  medium  \n7   informal  medium  \n8   informal  medium  \n9   informal  medium  ",
      "text/html": "<div>\n<style scoped>\n    .dataframe tbody tr th:only-of-type {\n        vertical-align: middle;\n    }\n\n    .dataframe tbody tr th {\n        vertical-align: top;\n    }\n\n    .dataframe thead th {\n        text-align: right;\n    }\n</style>\n<table border=\"1\" class=\"dataframe\">\n  <thead>\n    <tr style=\"text-align: right;\">\n      <th></th>\n      <th>item</th>\n      <th>score</th>\n      <th>index</th>\n      <th>placeID</th>\n      <th>latitude</th>\n      <th>longitude</th>\n      <th>name</th>\n      <th>alcohol</th>\n      <th>smoking_area</th>\n      <th>dress_code</th>\n      <th>price</th>\n    </tr>\n  </thead>\n  <tbody>\n    <tr>\n      <th>0</th>\n      <td>135108</td>\n      <td>4.545594</td>\n      <td>56</td>\n      <td>135108</td>\n      <td>22.136253</td>\n      <td>-100.933585</td>\n      <td>Potzocalli</td>\n      <td>No_Alcohol_Served</td>\n      <td>none</td>\n      <td>informal</td>\n      <td>low</td>\n    </tr>\n    <tr>\n      <th>1</th>\n      <td>132723</td>\n      <td>4.543238</td>\n      <td>62</td>\n      <td>132723</td>\n      <td>22.148934</td>\n      <td>-101.019845</td>\n      <td>Gordas de morales</td>\n      <td>Full_Bar</td>\n      <td>section</td>\n      <td>informal</td>\n      <td>medium</td>\n    </tr>\n    <tr>\n      <th>2</th>\n      <td>135081</td>\n      <td>4.429625</td>\n      <td>61</td>\n      <td>135081</td>\n      <td>22.164842</td>\n      <td>-100.960493</td>\n      <td>El Club</td>\n      <td>No_Alcohol_Served</td>\n      <td>none</td>\n      <td>informal</td>\n      <td>medium</td>\n    </tr>\n    <tr>\n      <th>3</th>\n      <td>135050</td>\n      <td>4.064405</td>\n      <td>33</td>\n      <td>135050</td>\n      <td>22.174887</td>\n      <td>-100.970825</td>\n      <td>Restaurante la Estrella de Dima</td>\n      <td>Wine-Beer</td>\n      <td>none</td>\n      <td>informal</td>\n      <td>high</td>\n    </tr>\n    <tr>\n      <th>4</th>\n      <td>135026</td>\n      <td>3.918991</td>\n      <td>69</td>\n      <td>135026</td>\n      <td>22.148665</td>\n      <td>-101.001273</td>\n      <td>la Cantina</td>\n      <td>Full_Bar</td>\n      <td>none</td>\n      <td>informal</td>\n      <td>high</td>\n    </tr>\n    <tr>\n      <th>5</th>\n      <td>135066</td>\n      <td>3.911887</td>\n      <td>52</td>\n      <td>135066</td>\n      <td>22.168350</td>\n      <td>-100.972466</td>\n      <td>Restaurante Guerra</td>\n      <td>Wine-Beer</td>\n      <td>section</td>\n      <td>informal</td>\n      <td>high</td>\n    </tr>\n    <tr>\n      <th>6</th>\n      <td>135030</td>\n      <td>3.754146</td>\n      <td>35</td>\n      <td>135030</td>\n      <td>22.147880</td>\n      <td>-100.989472</td>\n      <td>Preambulo Wifi Zone Cafe</td>\n      <td>No_Alcohol_Served</td>\n      <td>none</td>\n      <td>informal</td>\n      <td>medium</td>\n    </tr>\n    <tr>\n      <th>7</th>\n      <td>135075</td>\n      <td>3.586431</td>\n      <td>108</td>\n      <td>135075</td>\n      <td>22.139573</td>\n      <td>-100.991564</td>\n      <td>Mariscos El Pescador</td>\n      <td>No_Alcohol_Served</td>\n      <td>none</td>\n      <td>informal</td>\n      <td>medium</td>\n    </tr>\n    <tr>\n      <th>8</th>\n      <td>135059</td>\n      <td>3.572333</td>\n      <td>47</td>\n      <td>135059</td>\n      <td>22.145108</td>\n      <td>-100.989547</td>\n      <td>Restaurant Bar Hacienda los Martinez</td>\n      <td>Wine-Beer</td>\n      <td>section</td>\n      <td>informal</td>\n      <td>medium</td>\n    </tr>\n    <tr>\n      <th>9</th>\n      <td>135027</td>\n      <td>2.978654</td>\n      <td>97</td>\n      <td>135027</td>\n      <td>22.147145</td>\n      <td>-100.974494</td>\n      <td>Restaurant Orizatlan</td>\n      <td>Wine-Beer</td>\n      <td>none</td>\n      <td>informal</td>\n      <td>medium</td>\n    </tr>\n  </tbody>\n</table>\n</div>"
     },
     "metadata": {},
     "output_type": "display_data"
    }
   ],
   "source": [
    "# Extended library\n",
    "from lenskit.algorithms import Recommender\n",
    "from lenskit.algorithms.user_knn import UserUser\n",
    "from lenskit.algorithms.item_knn import ItemItem\n",
    "\n",
    "# We use the collaborative user algorithm UserUser, that use the nearest neighbors\n",
    "num_recs = 10  # Number of recommendations to generate\n",
    "user_user = UserUser(15, min_nbrs=3)  # Minimum (3) and maximum (15) number of neighbors to consider\n",
    "recsys = Recommender.adapt(user_user)\n",
    "recsys.fit(simple_Ratings)\n",
    "# generate 10 recommendations for the selected user\n",
    "selected_restaurants_useruser = recsys.recommend(default_user_Profile[\"userID\"].iloc[0], 10)\n",
    "selected_restaurants_useruser = pd.merge(\n",
    "    selected_restaurants_useruser, default_res_Profile, left_on='item', right_on='placeID')\n",
    "display(selected_restaurants_useruser)"
   ],
   "metadata": {
    "collapsed": false,
    "pycharm": {
     "name": "#%%\n"
    }
   }
  },
  {
   "cell_type": "code",
   "execution_count": null,
   "outputs": [],
   "source": [
    "# tt=pd.merge(ratings_df[(ratings_df[\"user\"] == dfu[\"userID\"].iloc[0])],dfr,left_on='item',right_on='placeID')\n",
    "# pd.merge(tt,res_cuisine_df,how='left',on='placeID')"
   ],
   "metadata": {
    "collapsed": false,
    "pycharm": {
     "name": "#%%\n"
    }
   }
  },
  {
   "cell_type": "code",
   "execution_count": null,
   "outputs": [],
   "source": [
    "\n",
    "\n",
    "selected_restaurants_useruser = recsys.recommend(default_user_Profile[\"userID\"].iloc[0], 10)\n",
    "selected_restaurants_useruser = pd.merge(\n",
    "    selected_restaurants_useruser, default_res_Profile, left_on='item', right_on='placeID')\n",
    "display(selected_restaurants_useruser)\n"
   ],
   "metadata": {
    "collapsed": false,
    "pycharm": {
     "name": "#%%\n"
    }
   }
  },
  {
   "cell_type": "code",
   "execution_count": null,
   "outputs": [],
   "source": [
    "split_count = 6.9\n",
    "ratings_per_user=simple_Ratings[['user', 'item']].groupby(['user']).count()\n",
    "ratings_per_user=ratings_per_user.reset_index()\n",
    "users_more_than = ratings_per_user[ratings_per_user['item'] > split_count]\n",
    "display(users_more_than)\n"
   ],
   "metadata": {
    "collapsed": false,
    "pycharm": {
     "name": "#%%\n"
    }
   }
  },
  {
   "cell_type": "code",
   "execution_count": null,
   "outputs": [],
   "source": [
    "# # select a sample of int(split_count) ratings from each user in users_more_than,\n",
    "# #  this is our training set\n",
    "# # what remains of the ratings is the testing set\n",
    "# train_set=pd.DataFrame(columns=ratings_df.columns)\n",
    "# test_set = pd.DataFrame(columns=ratings_df.columns)\n",
    "# for user in users_more_than.user:\n",
    "#     user_ratings=ratings_df[ratings_df['user']==user]\n",
    "#     sample = user_ratings.sample(int(split_count))\n",
    "#     train_set = train_set.append(sample)\n",
    "#     test_set = test_set.append(user_ratings.drop(sample.index))\n",
    "\n",
    "# train_set['rating'] = train_set['rating'].astype(float)\n",
    "# test_set['rating'] = test_set['rating'].astype(float)\n",
    "\n",
    "# display(train_set.dtypes)\n",
    "# display(test_set.dtypes)\n",
    "# # display(sum(users_more_than.item))\n"
   ],
   "metadata": {
    "collapsed": false,
    "pycharm": {
     "name": "#%%\n"
    }
   }
  },
  {
   "cell_type": "code",
   "execution_count": null,
   "outputs": [],
   "source": [
    "# select a sample of int(split_count) ratings from each user in users_more_than,\n",
    "#  this is our training set\n",
    "# what remains of the ratings is the testing set\n",
    "train_set = pd.DataFrame(columns=simple_Ratings.columns)\n",
    "test_set = pd.DataFrame(columns=simple_Ratings.columns)\n",
    "for user in users_more_than.user:\n",
    "    user_ratings = simple_Ratings[simple_Ratings['user'] == user]\n",
    "    sample_size=len(user_ratings)*0.7\n",
    "    sample=user_ratings.sample(int(sample_size))\n",
    "\n",
    "    train_set = train_set.append(sample)\n",
    "    test_set = test_set.append(user_ratings.drop(sample.index))\n",
    "\n",
    "train_set['rating'] = train_set['rating'].astype(float)\n",
    "test_set['rating'] = test_set['rating'].astype(float)\n",
    "\n",
    "# display(train_set.dtypes)\n",
    "# display(test_set.dtypes)\n",
    "# display(sum(users_more_than.item))\n"
   ],
   "metadata": {
    "collapsed": false,
    "pycharm": {
     "name": "#%%\n"
    }
   }
  },
  {
   "cell_type": "code",
   "execution_count": null,
   "outputs": [],
   "source": [
    "from lenskit.algorithms.bias import Bias\n",
    "from lenskit.batch import predict\n",
    "from lenskit.metrics.predict import user_metric, rmse\n",
    "\n",
    "algo = Bias()\n",
    "algo.fit(train_set)\n",
    "preds = predict(algo, test_set)\n",
    "user_metric(preds, metric=rmse)\n"
   ],
   "metadata": {
    "collapsed": false,
    "pycharm": {
     "name": "#%%\n"
    }
   }
  },
  {
   "cell_type": "code",
   "execution_count": null,
   "outputs": [],
   "source": [
    "from lenskit.algorithms.bias import Bias\n",
    "from lenskit.algorithms import Recommender\n",
    "from lenskit.algorithms.user_knn import UserUser\n",
    "from lenskit.batch import predict\n",
    "from lenskit.metrics.predict import user_metric, rmse\n",
    "\n",
    "min_nn = 3\n",
    "max_nn = 15\n",
    "# Minimum (3) and maximum (15) number of neighbors to consider\n",
    "user_user = UserUser(max_nn, min_nbrs=min_nn)\n",
    "recsys = Recommender.adapt(user_user)\n",
    "algo = recsys\n",
    "algo.fit(train_set)\n",
    "preds = predict(algo, test_set)\n",
    "user_metric(preds, metric=rmse)\n"
   ],
   "metadata": {
    "collapsed": false,
    "pycharm": {
     "name": "#%%\n"
    }
   }
  },
  {
   "cell_type": "code",
   "execution_count": null,
   "outputs": [],
   "source": [],
   "metadata": {
    "collapsed": false,
    "pycharm": {
     "name": "#%%\n"
    }
   }
  },
  {
   "cell_type": "code",
   "execution_count": null,
   "outputs": [],
   "source": [],
   "metadata": {
    "collapsed": false,
    "pycharm": {
     "name": "#%%\n"
    }
   }
  },
  {
   "cell_type": "code",
   "execution_count": null,
   "outputs": [],
   "source": [],
   "metadata": {
    "collapsed": false,
    "pycharm": {
     "name": "#%%\n"
    }
   }
  },
  {
   "cell_type": "code",
   "execution_count": null,
   "outputs": [],
   "source": [],
   "metadata": {
    "collapsed": false,
    "pycharm": {
     "name": "#%%\n"
    }
   }
  },
  {
   "cell_type": "code",
   "execution_count": null,
   "outputs": [],
   "source": [
    "# We use the collaborative user algorithm ItemItem, that use the nearest neighbors\n",
    "num_recs = 10  # Number of recommendations to generate\n",
    "item_item = ItemItem(15, min_nbrs=3)  # Minimum (3) and maximum (15) number of neighbors to consider\n",
    "recsys_itemitem = Recommender.adapt(item_item)\n",
    "recsys_itemitem.fit(simple_Ratings)\n",
    "\n",
    "# generate 10 recommendations for the selected user\n",
    "selected_restaurants_itemitem = recsys_itemitem.recommend(default_user_Profile[\"userID\"].iloc[0], 10)\n",
    "selected_restaurants_itemitem = pd.merge(\n",
    "    selected_restaurants_itemitem, default_res_Profile, left_on='item', right_on='placeID')\n",
    "display(selected_restaurants_itemitem)\n"
   ],
   "metadata": {
    "collapsed": false,
    "pycharm": {
     "name": "#%%\n"
    }
   }
  },
  {
   "cell_type": "code",
   "execution_count": null,
   "outputs": [],
   "source": [],
   "metadata": {
    "collapsed": false,
    "pycharm": {
     "name": "#%%\n"
    }
   }
  }
 ],
 "metadata": {
  "kernelspec": {
   "display_name": "Python 3",
   "language": "python",
   "name": "python3"
  },
  "language_info": {
   "codemirror_mode": {
    "name": "ipython",
    "version": 2
   },
   "file_extension": ".py",
   "mimetype": "text/x-python",
   "name": "python",
   "nbconvert_exporter": "python",
   "pygments_lexer": "ipython2",
   "version": "2.7.6"
  }
 },
 "nbformat": 4,
 "nbformat_minor": 0
}